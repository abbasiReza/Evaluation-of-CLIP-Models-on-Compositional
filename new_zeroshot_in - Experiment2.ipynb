{
 "cells": [
  {
   "cell_type": "code",
   "execution_count": 1,
   "metadata": {},
   "outputs": [
    {
     "data": {
      "text/plain": [
       "['abacus',\n",
       " 'abaya',\n",
       " 'academic gown',\n",
       " 'accordion',\n",
       " 'acorn',\n",
       " 'acorn squash',\n",
       " 'acoustic guitar',\n",
       " 'admiral',\n",
       " 'affenpinscher',\n",
       " 'afghan hound',\n",
       " 'african chameleon',\n",
       " 'african crocodile',\n",
       " 'african elephant',\n",
       " 'african grey',\n",
       " 'african hunting dog',\n",
       " 'agama',\n",
       " 'agaric',\n",
       " 'aircraft carrier',\n",
       " 'airedale',\n",
       " 'airliner',\n",
       " 'airship',\n",
       " 'albatross',\n",
       " 'alligator lizard',\n",
       " 'alp',\n",
       " 'altar',\n",
       " 'ambulance',\n",
       " 'american alligator',\n",
       " 'american black bear',\n",
       " 'american chameleon',\n",
       " 'american coot',\n",
       " 'american egret',\n",
       " 'american lobster',\n",
       " 'american staffordshire terrier',\n",
       " 'amphibian',\n",
       " 'analog clock',\n",
       " 'anemone fish',\n",
       " 'angora',\n",
       " 'ant',\n",
       " 'apiary',\n",
       " 'appenzeller',\n",
       " 'apron',\n",
       " 'arabian camel',\n",
       " 'arctic fox',\n",
       " 'armadillo',\n",
       " 'artichoke',\n",
       " 'ashcan',\n",
       " 'assault rifle',\n",
       " 'australian terrier',\n",
       " 'axolotl',\n",
       " 'baboon',\n",
       " 'backpack',\n",
       " 'badger',\n",
       " 'bagel',\n",
       " 'bakery',\n",
       " 'balance beam',\n",
       " 'bald eagle',\n",
       " 'balloon',\n",
       " 'ballplayer',\n",
       " 'ballpoint',\n",
       " 'banana',\n",
       " 'band aid',\n",
       " 'banded gecko',\n",
       " 'banjo',\n",
       " 'bannister',\n",
       " 'barbell',\n",
       " 'barber chair',\n",
       " 'barbershop',\n",
       " 'barn',\n",
       " 'barn spider',\n",
       " 'barometer',\n",
       " 'barracouta',\n",
       " 'barrel',\n",
       " 'barrow',\n",
       " 'baseball',\n",
       " 'basenji',\n",
       " 'basketball',\n",
       " 'basset',\n",
       " 'bassinet',\n",
       " 'bassoon',\n",
       " 'bath towel',\n",
       " 'bathing cap',\n",
       " 'bathtub',\n",
       " 'beach wagon',\n",
       " 'beacon',\n",
       " 'beagle',\n",
       " 'beaker',\n",
       " 'bearskin',\n",
       " 'beaver',\n",
       " 'bedlington terrier',\n",
       " 'bee',\n",
       " 'bee eater',\n",
       " 'beer bottle',\n",
       " 'beer glass',\n",
       " 'bell cote',\n",
       " 'bell pepper',\n",
       " 'bernese mountain dog',\n",
       " 'bib',\n",
       " 'bicycle-built-for-two',\n",
       " 'bighorn',\n",
       " 'bikini',\n",
       " 'binder',\n",
       " 'binoculars',\n",
       " 'birdhouse',\n",
       " 'bison',\n",
       " 'bittern',\n",
       " 'black and gold garden spider',\n",
       " 'black grouse',\n",
       " 'black stork',\n",
       " 'black swan',\n",
       " 'black widow',\n",
       " 'black-and-tan coonhound',\n",
       " 'black-footed ferret',\n",
       " 'blenheim spaniel',\n",
       " 'bloodhound',\n",
       " 'bluetick',\n",
       " 'boa constrictor',\n",
       " 'boathouse',\n",
       " 'bobsled',\n",
       " 'bolete',\n",
       " 'bolo tie',\n",
       " 'bonnet',\n",
       " 'book jacket',\n",
       " 'bookcase',\n",
       " 'bookshop',\n",
       " 'border collie',\n",
       " 'border terrier',\n",
       " 'borzoi',\n",
       " 'boston bull',\n",
       " 'bottlecap',\n",
       " 'bouvier des flandres',\n",
       " 'bow',\n",
       " 'bow tie',\n",
       " 'box turtle',\n",
       " 'boxer',\n",
       " 'brabancon griffon',\n",
       " 'brain coral',\n",
       " 'brambling',\n",
       " 'brass',\n",
       " 'brassiere',\n",
       " 'breakwater',\n",
       " 'breastplate',\n",
       " 'briard',\n",
       " 'brittany spaniel',\n",
       " 'broccoli',\n",
       " 'broom',\n",
       " 'brown bear',\n",
       " 'bubble',\n",
       " 'bucket',\n",
       " 'buckeye',\n",
       " 'buckle',\n",
       " 'bulbul',\n",
       " 'bull mastiff',\n",
       " 'bullet train',\n",
       " 'bulletproof vest',\n",
       " 'bullfrog',\n",
       " 'burrito',\n",
       " 'bustard',\n",
       " 'butcher shop',\n",
       " 'butternut squash',\n",
       " 'cab',\n",
       " 'cabbage butterfly',\n",
       " 'cairn',\n",
       " 'caldron',\n",
       " 'can opener',\n",
       " 'candle',\n",
       " 'cannon',\n",
       " 'canoe',\n",
       " 'capuchin',\n",
       " 'car mirror',\n",
       " 'car wheel',\n",
       " 'carbonara',\n",
       " 'cardigan',\n",
       " 'cardoon',\n",
       " 'carousel',\n",
       " \"carpenter's kit\",\n",
       " 'carton',\n",
       " 'cash machine',\n",
       " 'cassette',\n",
       " 'cassette player',\n",
       " 'castle',\n",
       " 'catamaran',\n",
       " 'cauliflower',\n",
       " 'cd player',\n",
       " 'cello',\n",
       " 'cellular telephone',\n",
       " 'centipede',\n",
       " 'chain',\n",
       " 'chain mail',\n",
       " 'chain saw',\n",
       " 'chainlink fence',\n",
       " 'chambered nautilus',\n",
       " 'cheeseburger',\n",
       " 'cheetah',\n",
       " 'chesapeake bay retriever',\n",
       " 'chest',\n",
       " 'chickadee',\n",
       " 'chiffonier',\n",
       " 'chihuahua',\n",
       " 'chime',\n",
       " 'chimpanzee',\n",
       " 'china cabinet',\n",
       " 'chiton',\n",
       " 'chocolate sauce',\n",
       " 'chow',\n",
       " 'christmas stocking',\n",
       " 'church',\n",
       " 'cicada',\n",
       " 'cinema',\n",
       " 'cleaver',\n",
       " 'cliff',\n",
       " 'cliff dwelling',\n",
       " 'cloak',\n",
       " 'clog',\n",
       " 'clumber',\n",
       " 'cock',\n",
       " 'cocker spaniel',\n",
       " 'cockroach',\n",
       " 'cocktail shaker',\n",
       " 'coffee mug',\n",
       " 'coffeepot',\n",
       " 'coho',\n",
       " 'coil',\n",
       " 'collie',\n",
       " 'colobus',\n",
       " 'combination lock',\n",
       " 'comic book',\n",
       " 'common iguana',\n",
       " 'common newt',\n",
       " 'computer keyboard',\n",
       " 'conch',\n",
       " 'confectionery',\n",
       " 'consomme',\n",
       " 'container ship',\n",
       " 'convertible',\n",
       " 'coral fungus',\n",
       " 'coral reef',\n",
       " 'corkscrew',\n",
       " 'corn',\n",
       " 'cornet',\n",
       " 'coucal',\n",
       " 'cougar',\n",
       " 'cowboy boot',\n",
       " 'cowboy hat',\n",
       " 'coyote',\n",
       " 'cradle',\n",
       " 'crane',\n",
       " 'crash helmet',\n",
       " 'crate',\n",
       " 'crayfish',\n",
       " 'crib',\n",
       " 'cricket',\n",
       " 'crock pot',\n",
       " 'croquet ball',\n",
       " 'crossword puzzle',\n",
       " 'crutch',\n",
       " 'cucumber',\n",
       " 'cuirass',\n",
       " 'cup',\n",
       " 'curly-coated retriever',\n",
       " 'custard apple',\n",
       " 'daisy',\n",
       " 'dalmatian',\n",
       " 'dam',\n",
       " 'damselfly',\n",
       " 'dandie dinmont',\n",
       " 'desk',\n",
       " 'desktop computer',\n",
       " 'dhole',\n",
       " 'dial telephone',\n",
       " 'diamondback',\n",
       " 'diaper',\n",
       " 'digital clock',\n",
       " 'digital watch',\n",
       " 'dingo',\n",
       " 'dining table',\n",
       " 'dishrag',\n",
       " 'dishwasher',\n",
       " 'disk brake',\n",
       " 'doberman',\n",
       " 'dock',\n",
       " 'dogsled',\n",
       " 'dome',\n",
       " 'doormat',\n",
       " 'dough',\n",
       " 'dowitcher',\n",
       " 'dragonfly',\n",
       " 'drake',\n",
       " 'drilling platform',\n",
       " 'drum',\n",
       " 'drumstick',\n",
       " 'dugong',\n",
       " 'dumbbell',\n",
       " 'dung beetle',\n",
       " 'dungeness crab',\n",
       " 'dutch oven',\n",
       " 'ear',\n",
       " 'earthstar',\n",
       " 'echidna',\n",
       " 'eel',\n",
       " 'eft',\n",
       " 'eggnog',\n",
       " 'egyptian cat',\n",
       " 'electric fan',\n",
       " 'electric guitar',\n",
       " 'electric locomotive',\n",
       " 'electric ray',\n",
       " 'english foxhound',\n",
       " 'english setter',\n",
       " 'english springer',\n",
       " 'entertainment center',\n",
       " 'entlebucher',\n",
       " 'envelope',\n",
       " 'eskimo dog',\n",
       " 'espresso',\n",
       " 'espresso maker',\n",
       " 'european fire salamander',\n",
       " 'european gallinule',\n",
       " 'face powder',\n",
       " 'feather boa',\n",
       " 'fiddler crab',\n",
       " 'fig',\n",
       " 'file',\n",
       " 'fire engine',\n",
       " 'fire screen',\n",
       " 'fireboat',\n",
       " 'flagpole',\n",
       " 'flamingo',\n",
       " 'flat-coated retriever',\n",
       " 'flatworm',\n",
       " 'flute',\n",
       " 'fly',\n",
       " 'folding chair',\n",
       " 'football helmet',\n",
       " 'forklift',\n",
       " 'fountain',\n",
       " 'fountain pen',\n",
       " 'four-poster',\n",
       " 'fox squirrel',\n",
       " 'freight car',\n",
       " 'french bulldog',\n",
       " 'french horn',\n",
       " 'french loaf',\n",
       " 'frilled lizard',\n",
       " 'frying pan',\n",
       " 'fur coat',\n",
       " 'gar',\n",
       " 'garbage truck',\n",
       " 'garden spider',\n",
       " 'garter snake',\n",
       " 'gas pump',\n",
       " 'gasmask',\n",
       " 'gazelle',\n",
       " 'german shepherd',\n",
       " 'german short-haired pointer',\n",
       " 'geyser',\n",
       " 'giant panda',\n",
       " 'giant schnauzer',\n",
       " 'gibbon',\n",
       " 'gila monster',\n",
       " 'go-kart',\n",
       " 'goblet',\n",
       " 'golden retriever',\n",
       " 'goldfinch',\n",
       " 'goldfish',\n",
       " 'golf ball',\n",
       " 'golfcart',\n",
       " 'gondola',\n",
       " 'gong',\n",
       " 'goose',\n",
       " 'gordon setter',\n",
       " 'gorilla',\n",
       " 'gown',\n",
       " 'grand piano',\n",
       " 'granny smith',\n",
       " 'grasshopper',\n",
       " 'great dane',\n",
       " 'great grey owl',\n",
       " 'great pyrenees',\n",
       " 'great white shark',\n",
       " 'greater swiss mountain dog',\n",
       " 'green lizard',\n",
       " 'green mamba',\n",
       " 'green snake',\n",
       " 'greenhouse',\n",
       " 'grey fox',\n",
       " 'grey whale',\n",
       " 'grille',\n",
       " 'grocery store',\n",
       " 'groenendael',\n",
       " 'groom',\n",
       " 'ground beetle',\n",
       " 'guacamole',\n",
       " 'guenon',\n",
       " 'guillotine',\n",
       " 'guinea pig',\n",
       " 'gyromitra',\n",
       " 'hair slide',\n",
       " 'hair spray',\n",
       " 'half track',\n",
       " 'hammer',\n",
       " 'hammerhead',\n",
       " 'hamper',\n",
       " 'hamster',\n",
       " 'hand blower',\n",
       " 'hand-held computer',\n",
       " 'handkerchief',\n",
       " 'hard disc',\n",
       " 'hare',\n",
       " 'harmonica',\n",
       " 'harp',\n",
       " 'hartebeest',\n",
       " 'harvester',\n",
       " 'harvestman',\n",
       " 'hatchet',\n",
       " 'hay',\n",
       " 'head cabbage',\n",
       " 'hen',\n",
       " 'hen-of-the-woods',\n",
       " 'hermit crab',\n",
       " 'hip',\n",
       " 'hippopotamus',\n",
       " 'hog',\n",
       " 'hognose snake',\n",
       " 'holster',\n",
       " 'home theater',\n",
       " 'honeycomb',\n",
       " 'hook',\n",
       " 'hoopskirt',\n",
       " 'horizontal bar',\n",
       " 'hornbill',\n",
       " 'horned viper',\n",
       " 'horse cart',\n",
       " 'hot pot',\n",
       " 'hotdog',\n",
       " 'hourglass',\n",
       " 'house finch',\n",
       " 'howler monkey',\n",
       " 'hummingbird',\n",
       " 'hyena',\n",
       " 'ibex',\n",
       " 'ibizan hound',\n",
       " 'ice bear',\n",
       " 'ice cream',\n",
       " 'ice lolly',\n",
       " 'impala',\n",
       " 'indian cobra',\n",
       " 'indian elephant',\n",
       " 'indigo bunting',\n",
       " 'indri',\n",
       " 'ipod',\n",
       " 'irish setter',\n",
       " 'irish terrier',\n",
       " 'irish water spaniel',\n",
       " 'irish wolfhound',\n",
       " 'iron',\n",
       " 'isopod',\n",
       " 'italian greyhound',\n",
       " 'jacamar',\n",
       " \"jack-o'-lantern\",\n",
       " 'jackfruit',\n",
       " 'jaguar',\n",
       " 'japanese spaniel',\n",
       " 'jay',\n",
       " 'jean',\n",
       " 'jeep',\n",
       " 'jellyfish',\n",
       " 'jersey',\n",
       " 'jigsaw puzzle',\n",
       " 'jinrikisha',\n",
       " 'joystick',\n",
       " 'junco',\n",
       " 'keeshond',\n",
       " 'kelpie',\n",
       " 'kerry blue terrier',\n",
       " 'killer whale',\n",
       " 'kimono',\n",
       " 'king crab',\n",
       " 'king penguin',\n",
       " 'king snake',\n",
       " 'kit fox',\n",
       " 'kite',\n",
       " 'knee pad',\n",
       " 'knot',\n",
       " 'koala',\n",
       " 'komodo dragon',\n",
       " 'komondor',\n",
       " 'kuvasz',\n",
       " 'lab coat',\n",
       " 'labrador retriever',\n",
       " 'lacewing',\n",
       " 'ladle',\n",
       " 'ladybug',\n",
       " 'lakeland terrier',\n",
       " 'lakeside',\n",
       " 'lampshade',\n",
       " 'langur',\n",
       " 'laptop',\n",
       " 'lawn mower',\n",
       " 'leaf beetle',\n",
       " 'leafhopper',\n",
       " 'leatherback turtle',\n",
       " 'lemon',\n",
       " 'lens cap',\n",
       " 'leonberg',\n",
       " 'leopard',\n",
       " 'lesser panda',\n",
       " 'letter opener',\n",
       " 'lhasa',\n",
       " 'library',\n",
       " 'lifeboat',\n",
       " 'lighter',\n",
       " 'limousine',\n",
       " 'limpkin',\n",
       " 'liner',\n",
       " 'lion',\n",
       " 'lionfish',\n",
       " 'lipstick',\n",
       " 'little blue heron',\n",
       " 'llama',\n",
       " 'loafer',\n",
       " 'loggerhead',\n",
       " 'long-horned beetle',\n",
       " 'lorikeet',\n",
       " 'lotion',\n",
       " 'loudspeaker',\n",
       " 'loupe',\n",
       " 'lumbermill',\n",
       " 'lycaenid',\n",
       " 'lynx',\n",
       " 'macaque',\n",
       " 'macaw',\n",
       " 'madagascar cat',\n",
       " 'magnetic compass',\n",
       " 'magpie',\n",
       " 'mailbag',\n",
       " 'mailbox',\n",
       " 'maillot',\n",
       " 'malamute',\n",
       " 'malinois',\n",
       " 'maltese dog',\n",
       " 'manhole cover',\n",
       " 'mantis',\n",
       " 'maraca',\n",
       " 'marimba',\n",
       " 'marmoset',\n",
       " 'marmot',\n",
       " 'mashed potato',\n",
       " 'mask',\n",
       " 'matchstick',\n",
       " 'maypole',\n",
       " 'maze',\n",
       " 'measuring cup',\n",
       " 'meat loaf',\n",
       " 'medicine chest',\n",
       " 'meerkat',\n",
       " 'megalith',\n",
       " 'menu',\n",
       " 'mexican hairless',\n",
       " 'microphone',\n",
       " 'microwave',\n",
       " 'military uniform',\n",
       " 'milk can',\n",
       " 'miniature pinscher',\n",
       " 'miniature poodle',\n",
       " 'miniature schnauzer',\n",
       " 'minibus',\n",
       " 'miniskirt',\n",
       " 'minivan',\n",
       " 'mink',\n",
       " 'missile',\n",
       " 'mitten',\n",
       " 'mixing bowl',\n",
       " 'mobile home',\n",
       " 'model t',\n",
       " 'modem',\n",
       " 'monarch',\n",
       " 'monastery',\n",
       " 'mongoose',\n",
       " 'monitor',\n",
       " 'moped',\n",
       " 'mortar',\n",
       " 'mortarboard',\n",
       " 'mosque',\n",
       " 'mosquito net',\n",
       " 'motor scooter',\n",
       " 'mountain bike',\n",
       " 'mountain tent',\n",
       " 'mouse',\n",
       " 'mousetrap',\n",
       " 'moving van',\n",
       " 'mud turtle',\n",
       " 'mushroom',\n",
       " 'muzzle',\n",
       " 'n02963159',\n",
       " 'n03126707',\n",
       " 'n03710721',\n",
       " 'nail',\n",
       " 'neck brace',\n",
       " 'necklace',\n",
       " 'nematode',\n",
       " 'newfoundland',\n",
       " 'night snake',\n",
       " 'nipple',\n",
       " 'norfolk terrier',\n",
       " 'norwegian elkhound',\n",
       " 'norwich terrier',\n",
       " 'notebook',\n",
       " 'obelisk',\n",
       " 'oboe',\n",
       " 'ocarina',\n",
       " 'odometer',\n",
       " 'oil filter',\n",
       " 'old english sheepdog',\n",
       " 'orange',\n",
       " 'orangutan',\n",
       " 'organ',\n",
       " 'oscilloscope',\n",
       " 'ostrich',\n",
       " 'otter',\n",
       " 'otterhound',\n",
       " 'overskirt',\n",
       " 'ox',\n",
       " 'oxcart',\n",
       " 'oxygen mask',\n",
       " 'oystercatcher',\n",
       " 'packet',\n",
       " 'paddle',\n",
       " 'paddlewheel',\n",
       " 'padlock',\n",
       " 'paintbrush',\n",
       " 'pajama',\n",
       " 'palace',\n",
       " 'panpipe',\n",
       " 'paper towel',\n",
       " 'papillon',\n",
       " 'parachute',\n",
       " 'parallel bars',\n",
       " 'park bench',\n",
       " 'parking meter',\n",
       " 'partridge',\n",
       " 'passenger car',\n",
       " 'patas',\n",
       " 'patio',\n",
       " 'pay-phone',\n",
       " 'peacock',\n",
       " 'pedestal',\n",
       " 'pekinese',\n",
       " 'pelican',\n",
       " 'pembroke',\n",
       " 'pencil box',\n",
       " 'pencil sharpener',\n",
       " 'perfume',\n",
       " 'persian cat',\n",
       " 'petri dish',\n",
       " 'photocopier',\n",
       " 'pick',\n",
       " 'pickelhaube',\n",
       " 'picket fence',\n",
       " 'pickup',\n",
       " 'pier',\n",
       " 'piggy bank',\n",
       " 'pill bottle',\n",
       " 'pillow',\n",
       " 'pineapple',\n",
       " 'ping-pong ball',\n",
       " 'pinwheel',\n",
       " 'pirate',\n",
       " 'pitcher',\n",
       " 'pizza',\n",
       " 'plane',\n",
       " 'planetarium',\n",
       " 'plastic bag',\n",
       " 'plate',\n",
       " 'plate rack',\n",
       " 'platypus',\n",
       " 'plow',\n",
       " 'plunger',\n",
       " 'polaroid camera',\n",
       " 'pole',\n",
       " 'polecat',\n",
       " 'police van',\n",
       " 'pomegranate',\n",
       " 'pomeranian',\n",
       " 'poncho',\n",
       " 'pool table',\n",
       " 'pop bottle',\n",
       " 'porcupine',\n",
       " 'pot',\n",
       " 'potpie',\n",
       " \"potter's wheel\",\n",
       " 'power drill',\n",
       " 'prairie chicken',\n",
       " 'prayer rug',\n",
       " 'pretzel',\n",
       " 'printer',\n",
       " 'prison',\n",
       " 'proboscis monkey',\n",
       " 'projectile',\n",
       " 'projector',\n",
       " 'promontory',\n",
       " 'ptarmigan',\n",
       " 'puck',\n",
       " 'puffer',\n",
       " 'pug',\n",
       " 'punching bag',\n",
       " 'purse',\n",
       " 'quail',\n",
       " 'quill',\n",
       " 'quilt',\n",
       " 'racer',\n",
       " 'racket',\n",
       " 'radiator',\n",
       " 'radio',\n",
       " 'radio telescope',\n",
       " 'rain barrel',\n",
       " 'ram',\n",
       " 'rapeseed',\n",
       " 'recreational vehicle',\n",
       " 'red fox',\n",
       " 'red wine',\n",
       " 'red wolf',\n",
       " 'red-backed sandpiper',\n",
       " 'red-breasted merganser',\n",
       " 'redbone',\n",
       " 'redshank',\n",
       " 'reel',\n",
       " 'reflex camera',\n",
       " 'refrigerator',\n",
       " 'remote control',\n",
       " 'restaurant',\n",
       " 'revolver',\n",
       " 'rhinoceros beetle',\n",
       " 'rhodesian ridgeback',\n",
       " 'rifle',\n",
       " 'ringlet',\n",
       " 'ringneck snake',\n",
       " 'robin',\n",
       " 'rock beauty',\n",
       " 'rock crab',\n",
       " 'rock python',\n",
       " 'rocking chair',\n",
       " 'rotisserie',\n",
       " 'rottweiler',\n",
       " 'rubber eraser',\n",
       " 'ruddy turnstone',\n",
       " 'ruffed grouse',\n",
       " 'rugby ball',\n",
       " 'rule',\n",
       " 'running shoe',\n",
       " 'safe',\n",
       " 'safety pin',\n",
       " 'saint bernard',\n",
       " 'saltshaker',\n",
       " 'saluki',\n",
       " 'samoyed',\n",
       " 'sandal',\n",
       " 'sandbar',\n",
       " 'sarong',\n",
       " 'sax',\n",
       " 'scabbard',\n",
       " 'scale',\n",
       " 'schipperke',\n",
       " 'school bus',\n",
       " 'schooner',\n",
       " 'scoreboard',\n",
       " 'scorpion',\n",
       " 'scotch terrier',\n",
       " 'scottish deerhound',\n",
       " 'screen',\n",
       " 'screw',\n",
       " 'screwdriver',\n",
       " 'scuba diver',\n",
       " 'sea anemone',\n",
       " 'sea cucumber',\n",
       " 'sea lion',\n",
       " 'sea slug',\n",
       " 'sea snake',\n",
       " 'sea urchin',\n",
       " 'sealyham terrier',\n",
       " 'seashore',\n",
       " 'seat belt',\n",
       " 'sewing machine',\n",
       " 'shetland sheepdog',\n",
       " 'shield',\n",
       " 'shih-tzu',\n",
       " 'shoe shop',\n",
       " 'shoji',\n",
       " 'shopping basket',\n",
       " 'shopping cart',\n",
       " 'shovel',\n",
       " 'shower cap',\n",
       " 'shower curtain',\n",
       " 'siamang',\n",
       " 'siamese cat',\n",
       " 'siberian husky',\n",
       " 'sidewinder',\n",
       " 'silky terrier',\n",
       " 'ski',\n",
       " 'ski mask',\n",
       " 'skunk',\n",
       " 'sleeping bag',\n",
       " 'slide rule',\n",
       " 'sliding door',\n",
       " 'slot',\n",
       " 'sloth bear',\n",
       " 'slug',\n",
       " 'snail',\n",
       " 'snorkel',\n",
       " 'snow leopard',\n",
       " 'snowmobile',\n",
       " 'snowplow',\n",
       " 'soap dispenser',\n",
       " 'soccer ball',\n",
       " 'sock',\n",
       " 'soft-coated wheaten terrier',\n",
       " 'solar dish',\n",
       " 'sombrero',\n",
       " 'sorrel',\n",
       " 'soup bowl',\n",
       " 'space bar',\n",
       " 'space heater',\n",
       " 'space shuttle',\n",
       " 'spaghetti squash',\n",
       " 'spatula',\n",
       " 'speedboat',\n",
       " 'spider monkey',\n",
       " 'spider web',\n",
       " 'spindle',\n",
       " 'spiny lobster',\n",
       " 'spoonbill',\n",
       " 'sports car',\n",
       " 'spotlight',\n",
       " 'spotted salamander',\n",
       " 'squirrel monkey',\n",
       " 'staffordshire bullterrier',\n",
       " 'stage',\n",
       " 'standard poodle',\n",
       " 'standard schnauzer',\n",
       " 'starfish',\n",
       " 'steam locomotive',\n",
       " 'steel arch bridge',\n",
       " 'steel drum',\n",
       " 'stethoscope',\n",
       " 'stingray',\n",
       " 'stinkhorn',\n",
       " 'stole',\n",
       " 'stone wall',\n",
       " 'stopwatch',\n",
       " 'stove',\n",
       " 'strainer',\n",
       " 'strawberry',\n",
       " 'street sign',\n",
       " 'streetcar',\n",
       " 'stretcher',\n",
       " 'studio couch',\n",
       " 'stupa',\n",
       " 'sturgeon',\n",
       " 'submarine',\n",
       " 'suit',\n",
       " 'sulphur butterfly',\n",
       " 'sulphur-crested cockatoo',\n",
       " 'sundial',\n",
       " 'sunglass',\n",
       " 'sunglasses',\n",
       " 'sunscreen',\n",
       " 'suspension bridge',\n",
       " 'sussex spaniel',\n",
       " 'swab',\n",
       " 'sweatshirt',\n",
       " 'swimming trunks',\n",
       " 'swing',\n",
       " 'switch',\n",
       " 'syringe',\n",
       " 'tabby',\n",
       " 'table lamp',\n",
       " 'tailed frog',\n",
       " 'tank',\n",
       " 'tape player',\n",
       " 'tarantula',\n",
       " 'teapot',\n",
       " 'teddy',\n",
       " 'television',\n",
       " 'tench',\n",
       " 'tennis ball',\n",
       " 'terrapin',\n",
       " 'thatch',\n",
       " 'theater curtain',\n",
       " 'thimble',\n",
       " 'three-toed sloth',\n",
       " 'thresher',\n",
       " 'throne',\n",
       " 'thunder snake',\n",
       " 'tibetan mastiff',\n",
       " 'tibetan terrier',\n",
       " 'tick',\n",
       " 'tiger',\n",
       " 'tiger beetle',\n",
       " 'tiger cat',\n",
       " 'tiger shark',\n",
       " 'tile roof',\n",
       " 'timber wolf',\n",
       " 'titi',\n",
       " 'toaster',\n",
       " 'tobacco shop',\n",
       " 'toilet seat',\n",
       " 'toilet tissue',\n",
       " 'torch',\n",
       " 'totem pole',\n",
       " 'toucan',\n",
       " 'tow truck',\n",
       " 'toy poodle',\n",
       " 'toy terrier',\n",
       " 'toyshop',\n",
       " 'tractor',\n",
       " 'traffic light',\n",
       " 'trailer truck',\n",
       " 'tray',\n",
       " 'tree frog',\n",
       " 'trench coat',\n",
       " 'triceratops',\n",
       " 'tricycle',\n",
       " 'trifle',\n",
       " 'trilobite',\n",
       " 'trimaran',\n",
       " 'tripod',\n",
       " 'triumphal arch',\n",
       " 'trolleybus',\n",
       " 'trombone',\n",
       " 'tub',\n",
       " 'turnstile',\n",
       " 'tusker',\n",
       " 'typewriter keyboard',\n",
       " 'umbrella',\n",
       " 'unicycle',\n",
       " 'upright',\n",
       " 'vacuum',\n",
       " 'valley',\n",
       " 'vase',\n",
       " 'vault',\n",
       " 'velvet',\n",
       " 'vending machine',\n",
       " 'vestment',\n",
       " 'viaduct',\n",
       " 'vine snake',\n",
       " 'violin',\n",
       " 'vizsla',\n",
       " 'volcano',\n",
       " 'volleyball',\n",
       " 'vulture',\n",
       " 'waffle iron',\n",
       " 'walker hound',\n",
       " 'walking stick',\n",
       " 'wall clock',\n",
       " 'wallaby',\n",
       " 'wallet',\n",
       " 'wardrobe',\n",
       " 'warplane',\n",
       " 'warthog',\n",
       " 'washbasin',\n",
       " 'washer',\n",
       " 'water bottle',\n",
       " 'water buffalo',\n",
       " 'water jug',\n",
       " 'water ouzel',\n",
       " 'water snake',\n",
       " 'water tower',\n",
       " 'weasel',\n",
       " 'web site',\n",
       " 'weevil',\n",
       " 'weimaraner',\n",
       " 'welsh springer spaniel',\n",
       " 'west highland white terrier',\n",
       " 'whippet',\n",
       " 'whiptail',\n",
       " 'whiskey jug',\n",
       " 'whistle',\n",
       " 'white stork',\n",
       " 'white wolf',\n",
       " 'wig',\n",
       " 'wild boar',\n",
       " 'window screen',\n",
       " 'window shade',\n",
       " 'windsor tie',\n",
       " 'wine bottle',\n",
       " 'wing',\n",
       " 'wire-haired fox terrier',\n",
       " 'wok',\n",
       " 'wolf spider',\n",
       " 'wombat',\n",
       " 'wood rabbit',\n",
       " 'wooden spoon',\n",
       " 'wool',\n",
       " 'worm fence',\n",
       " 'wreck',\n",
       " 'yawl',\n",
       " \"yellow lady's slipper\",\n",
       " 'yorkshire terrier',\n",
       " 'yurt',\n",
       " 'zebra',\n",
       " 'zucchini']"
      ]
     },
     "execution_count": 1,
     "metadata": {},
     "output_type": "execute_result"
    }
   ],
   "source": [
    "import os\n",
    "import open_clip\n",
    "texts = os.listdir('C:/Users/user01/Documents/datasets/imagenet_only_name')\n",
    "texts\n"
   ]
  },
  {
   "cell_type": "code",
   "execution_count": 2,
   "metadata": {},
   "outputs": [],
   "source": [
    "OPENAI_IMAGENET_TEMPLATES = (\n",
    "    lambda c: f'a bad photo of a {c}.',\n",
    "    lambda c: f'a photo of many {c}.',\n",
    "    lambda c: f'a sculpture of a {c}.',\n",
    "    lambda c: f'a photo of the hard to see {c}.',\n",
    "    lambda c: f'a low resolution photo of the {c}.',\n",
    "    lambda c: f'a rendering of a {c}.',\n",
    "    lambda c: f'graffiti of a {c}.',\n",
    "    lambda c: f'a bad photo of the {c}.',\n",
    "    lambda c: f'a cropped photo of the {c}.',\n",
    "    lambda c: f'a tattoo of a {c}.',\n",
    "    lambda c: f'the embroidered {c}.',\n",
    "    lambda c: f'a photo of a hard to see {c}.',\n",
    "    lambda c: f'a bright photo of a {c}.',\n",
    "    lambda c: f'a photo of a clean {c}.',\n",
    "    lambda c: f'a photo of a dirty {c}.',\n",
    "    lambda c: f'a dark photo of the {c}.',\n",
    "    lambda c: f'a drawing of a {c}.',\n",
    "    lambda c: f'a photo of my {c}.',\n",
    "    lambda c: f'the plastic {c}.',\n",
    "    lambda c: f'a photo of the cool {c}.',\n",
    "    lambda c: f'a close-up photo of a {c}.',\n",
    "    lambda c: f'a black and white photo of the {c}.',\n",
    "    lambda c: f'a painting of the {c}.',\n",
    "    lambda c: f'a painting of a {c}.',\n",
    "    lambda c: f'a pixelated photo of the {c}.',\n",
    "    lambda c: f'a sculpture of the {c}.',\n",
    "    lambda c: f'a bright photo of the {c}.',\n",
    "    lambda c: f'a cropped photo of a {c}.',\n",
    "    lambda c: f'a plastic {c}.',\n",
    "    lambda c: f'a photo of the dirty {c}.',\n",
    "    lambda c: f'a jpeg corrupted photo of a {c}.',\n",
    "    lambda c: f'a blurry photo of the {c}.',\n",
    "    lambda c: f'a photo of the {c}.',\n",
    "    lambda c: f'a good photo of the {c}.',\n",
    "    lambda c: f'a rendering of the {c}.',\n",
    "    lambda c: f'a {c} in a video game.',\n",
    "    lambda c: f'a photo of one {c}.',\n",
    "    lambda c: f'a doodle of a {c}.',\n",
    "    lambda c: f'a close-up photo of the {c}.',\n",
    "    lambda c: f'a photo of a {c}.',\n",
    "    lambda c: f'the origami {c}.',\n",
    "    lambda c: f'the {c} in a video game.',\n",
    "    lambda c: f'a sketch of a {c}.',\n",
    "    lambda c: f'a doodle of the {c}.',\n",
    "    lambda c: f'a origami {c}.',\n",
    "    lambda c: f'a low resolution photo of a {c}.',\n",
    "    lambda c: f'the toy {c}.',\n",
    "    lambda c: f'a rendition of the {c}.',\n",
    "    lambda c: f'a photo of the clean {c}.',\n",
    "    lambda c: f'a photo of a large {c}.',\n",
    "    lambda c: f'a rendition of a {c}.',\n",
    "    lambda c: f'a photo of a nice {c}.',\n",
    "    lambda c: f'a photo of a weird {c}.',\n",
    "    lambda c: f'a blurry photo of a {c}.',\n",
    "    lambda c: f'a cartoon {c}.',\n",
    "    lambda c: f'art of a {c}.',\n",
    "    lambda c: f'a sketch of the {c}.',\n",
    "    lambda c: f'a embroidered {c}.',\n",
    "    lambda c: f'a pixelated photo of a {c}.',\n",
    "    lambda c: f'itap of the {c}.',\n",
    "    lambda c: f'a jpeg corrupted photo of the {c}.',\n",
    "    lambda c: f'a good photo of a {c}.',\n",
    "    lambda c: f'a plushie {c}.',\n",
    "    lambda c: f'a photo of the nice {c}.',\n",
    "    lambda c: f'a photo of the small {c}.',\n",
    "    lambda c: f'a photo of the weird {c}.',\n",
    "    lambda c: f'the cartoon {c}.',\n",
    "    lambda c: f'art of the {c}.',\n",
    "    lambda c: f'a drawing of the {c}.',\n",
    "    lambda c: f'a photo of the large {c}.',\n",
    "    lambda c: f'a black and white photo of a {c}.',\n",
    "    lambda c: f'the plushie {c}.',\n",
    "    lambda c: f'a dark photo of a {c}.',\n",
    "    lambda c: f'itap of a {c}.',\n",
    "    lambda c: f'graffiti of the {c}.',\n",
    "    lambda c: f'a toy {c}.',\n",
    "    lambda c: f'itap of my {c}.',\n",
    "    lambda c: f'a photo of a cool {c}.',\n",
    "    lambda c: f'a photo of a small {c}.',\n",
    "    lambda c: f'a tattoo of the {c}.',\n",
    ")\n"
   ]
  },
  {
   "cell_type": "code",
   "execution_count": 3,
   "metadata": {},
   "outputs": [],
   "source": [
    "all_texts=[]\n",
    "for text in texts:\n",
    "    for a in OPENAI_IMAGENET_TEMPLATES:\n",
    "        # print(a(text))\n",
    "        all_texts.append(a(text))"
   ]
  },
  {
   "cell_type": "code",
   "execution_count": 4,
   "metadata": {},
   "outputs": [],
   "source": [
    "import open_clip\n",
    "import torchvision\n",
    "import torch\n",
    "import torch.nn.functional as F\n",
    "\n",
    "all_models=open_clip.list_pretrained()\n"
   ]
  },
  {
   "cell_type": "code",
   "execution_count": 5,
   "metadata": {},
   "outputs": [],
   "source": [
    "def accuracy(output, target, topk=(1,)):\n",
    "    pred = output.topk(max(topk), 1, True, True)[1].t()\n",
    "    # print(pred)\n",
    "    # print(target)\n",
    "\n",
    "    correct = pred.eq(target.view(1, -1).expand_as(pred))\n",
    "    # print(correct)\n",
    "    # print([float(correct[:k].reshape(-1).float().sum(0, keepdim=True).cpu().numpy()) for k in topk])\n",
    "    return [float(correct[:k].reshape(-1).float().sum(0, keepdim=True).cpu().numpy()) for k in topk]\n"
   ]
  },
  {
   "cell_type": "code",
   "execution_count": 6,
   "metadata": {},
   "outputs": [
    {
     "data": {
      "text/html": [
       "<div>\n",
       "<style scoped>\n",
       "    .dataframe tbody tr th:only-of-type {\n",
       "        vertical-align: middle;\n",
       "    }\n",
       "\n",
       "    .dataframe tbody tr th {\n",
       "        vertical-align: top;\n",
       "    }\n",
       "\n",
       "    .dataframe thead th {\n",
       "        text-align: right;\n",
       "    }\n",
       "</style>\n",
       "<table border=\"1\" class=\"dataframe\">\n",
       "  <thead>\n",
       "    <tr style=\"text-align: right;\">\n",
       "      <th></th>\n",
       "      <th>model</th>\n",
       "      <th>in_dis_Acc_top1</th>\n",
       "      <th>in_dis_Acc_top5</th>\n",
       "    </tr>\n",
       "  </thead>\n",
       "  <tbody>\n",
       "  </tbody>\n",
       "</table>\n",
       "</div>"
      ],
      "text/plain": [
       "Empty DataFrame\n",
       "Columns: [model, in_dis_Acc_top1, in_dis_Acc_top5]\n",
       "Index: []"
      ]
     },
     "execution_count": 6,
     "metadata": {},
     "output_type": "execute_result"
    }
   ],
   "source": [
    "import pandas as pd\n",
    "df_in=pd.DataFrame(columns=['model','in_dis_Acc_top1','in_dis_Acc_top5'])\n",
    "df_in"
   ]
  },
  {
   "attachments": {},
   "cell_type": "markdown",
   "metadata": {},
   "source": [
    "ViT-bigG-14', 'laion2b_s39b_b160k'"
   ]
  },
  {
   "cell_type": "code",
   "execution_count": 22,
   "metadata": {},
   "outputs": [
    {
     "ename": "TypeError",
     "evalue": "'function' object is not subscriptable",
     "output_type": "error",
     "traceback": [
      "\u001b[1;31m---------------------------------------------------------------------------\u001b[0m",
      "\u001b[1;31mTypeError\u001b[0m                                 Traceback (most recent call last)",
      "Cell \u001b[1;32mIn[22], line 64\u001b[0m\n\u001b[0;32m     62\u001b[0m top1 \u001b[39m=\u001b[39m (top1 \u001b[39m/\u001b[39m n)\n\u001b[0;32m     63\u001b[0m top5 \u001b[39m=\u001b[39m (top5 \u001b[39m/\u001b[39m n)\n\u001b[1;32m---> 64\u001b[0m row\u001b[39m=\u001b[39m{\u001b[39m'\u001b[39m\u001b[39mmodel\u001b[39m\u001b[39m'\u001b[39m:a[\u001b[39m0\u001b[39;49m]\u001b[39m+\u001b[39m\u001b[39m'\u001b[39m\u001b[39m_\u001b[39m\u001b[39m'\u001b[39m\u001b[39m+\u001b[39ma[\u001b[39m1\u001b[39m],\u001b[39m'\u001b[39m\u001b[39min_dis_Acc_top1\u001b[39m\u001b[39m'\u001b[39m:top1,\u001b[39m'\u001b[39m\u001b[39min_dis_Acc_top5\u001b[39m\u001b[39m'\u001b[39m:top5}\n\u001b[0;32m     65\u001b[0m \u001b[39mprint\u001b[39m(row)\n\u001b[0;32m     66\u001b[0m \u001b[39m# df_in = df_in.append(row, ignore_index=True)\u001b[39;00m\n\u001b[0;32m     67\u001b[0m \u001b[39m# df_in.to_csv('all_model.csv', index=False)\u001b[39;00m\n",
      "\u001b[1;31mTypeError\u001b[0m: 'function' object is not subscriptable"
     ]
    }
   ],
   "source": [
    "\n",
    "autocast = torch.cuda.amp.autocast\n",
    "cast_dtype = None\n",
    "model, _, preprocess = open_clip.create_model_and_transforms('coca_ViT-B-32', pretrained='mscoco_finetuned_laion2b_s13b_b90k')\n",
    "tokenizer = open_clip.get_tokenizer('coca_ViT-B-32')\n",
    "model.cuda()\n",
    "model.eval()\n",
    "dataset=torchvision.datasets.ImageFolder('E:/in-dis -with-name',transform=preprocess)\n",
    "dataloader=torch.utils.data.DataLoader(dataset,shuffle=True,batch_size=64\n",
    "                                )\n",
    "\n",
    "\n",
    "\n",
    "# Example list of texts to encode\n",
    "\n",
    "with torch.no_grad():\n",
    "# Specify batch size\n",
    "    batch_size = 80\n",
    "\n",
    "    # Encode texts in batches\n",
    "    text_features_target = []\n",
    "    for i in range(0, len(all_texts), batch_size):\n",
    "        batch_texts = all_texts[i:i+batch_size]\n",
    "        text = tokenizer(batch_texts)\n",
    "        with torch.no_grad():\n",
    "            text_features_batch = F.normalize(model.encode_text(text.cuda()))\n",
    "            # text.cuda()\n",
    "            # print(text_features_batch.shape)\n",
    "            text_features_batch=text_features_batch.mean(dim=0)\n",
    "\n",
    "            # text_features_batch /= text_features_batch.norm(dim=-1, keepdim=True)\n",
    "            text_features_batch /= text_features_batch.norm(dim=-1, keepdim=True)\n",
    "\n",
    "            # print(text_features_batch.unsqueeze(0).shape)\n",
    "            # print(text_features_batch.mean(dim=0).shape)\n",
    "            text_features_target.append(text_features_batch.unsqueeze(0))\n",
    "\n",
    "    # Concatenate text features from batches\n",
    "    text_features_target = torch.cat(text_features_target, dim=0)\n",
    "    \n",
    "with torch.no_grad():\n",
    "    top1, top5, n = 0., 0., 0.\n",
    "    for images, target in dataloader:\n",
    "        images = images.to('cuda')\n",
    "        if cast_dtype is not None:\n",
    "            images = images.to(dtype=cast_dtype)\n",
    "        target = target.to('cuda')\n",
    "\n",
    "\n",
    "        with autocast():\n",
    "            # predict\n",
    "            image_features = model.encode_image(images)\n",
    "            # image_features = F.normalize(image_features, dim=-1)\n",
    "            logits = 100. * image_features @ text_features_target.T\n",
    "        # print(image_features.shape)\n",
    "        # measure accuracy\n",
    "        acc1, acc5 = accuracy(logits, target, topk=(1, 5))\n",
    "        # print(acc1, acc5)\n",
    "        top1 += acc1\n",
    "        top5 += acc5\n",
    "        n += images.size(0)\n",
    "    \n",
    "top1 = (top1 / n)\n",
    "top5 = (top5 / n)\n",
    "row={'model':a[0]+'_'+a[1],'in_dis_Acc_top1':top1,'in_dis_Acc_top5':top5}\n",
    "print(row)\n",
    "# df_in = df_in.append(row, ignore_index=True)\n",
    "# df_in.to_csv('all_model.csv', index=False)"
   ]
  },
  {
   "cell_type": "code",
   "execution_count": 29,
   "metadata": {},
   "outputs": [
    {
     "name": "stdout",
     "output_type": "stream",
     "text": [
      "0.028101025773640202 0.09223342815274545\n"
     ]
    }
   ],
   "source": [
    "print(top1,top5)"
   ]
  },
  {
   "cell_type": "code",
   "execution_count": null,
   "metadata": {},
   "outputs": [],
   "source": [
    "ViT-H-14_laion2b_s32b_b79k"
   ]
  },
  {
   "cell_type": "code",
   "execution_count": 7,
   "metadata": {},
   "outputs": [
    {
     "data": {
      "text/plain": [
       "[('RN50', 'openai'),\n",
       " ('RN50', 'yfcc15m'),\n",
       " ('RN50', 'cc12m'),\n",
       " ('RN50-quickgelu', 'openai'),\n",
       " ('RN50-quickgelu', 'yfcc15m'),\n",
       " ('RN50-quickgelu', 'cc12m'),\n",
       " ('RN101', 'openai'),\n",
       " ('RN101', 'yfcc15m'),\n",
       " ('RN101-quickgelu', 'openai'),\n",
       " ('RN101-quickgelu', 'yfcc15m'),\n",
       " ('RN50x4', 'openai'),\n",
       " ('RN50x16', 'openai'),\n",
       " ('RN50x64', 'openai'),\n",
       " ('ViT-B-32', 'openai'),\n",
       " ('ViT-B-32', 'laion400m_e31'),\n",
       " ('ViT-B-32', 'laion400m_e32'),\n",
       " ('ViT-B-32', 'laion2b_e16'),\n",
       " ('ViT-B-32', 'laion2b_s34b_b79k'),\n",
       " ('ViT-B-32', 'datacomp_m_s128m_b4k'),\n",
       " ('ViT-B-32', 'commonpool_m_clip_s128m_b4k'),\n",
       " ('ViT-B-32', 'commonpool_m_laion_s128m_b4k'),\n",
       " ('ViT-B-32', 'commonpool_m_image_s128m_b4k'),\n",
       " ('ViT-B-32', 'commonpool_m_text_s128m_b4k'),\n",
       " ('ViT-B-32', 'commonpool_m_basic_s128m_b4k'),\n",
       " ('ViT-B-32', 'commonpool_m_s128m_b4k'),\n",
       " ('ViT-B-32', 'datacomp_s_s13m_b4k'),\n",
       " ('ViT-B-32', 'commonpool_s_clip_s13m_b4k'),\n",
       " ('ViT-B-32', 'commonpool_s_laion_s13m_b4k'),\n",
       " ('ViT-B-32', 'commonpool_s_image_s13m_b4k'),\n",
       " ('ViT-B-32', 'commonpool_s_text_s13m_b4k'),\n",
       " ('ViT-B-32', 'commonpool_s_basic_s13m_b4k'),\n",
       " ('ViT-B-32', 'commonpool_s_s13m_b4k'),\n",
       " ('ViT-B-32-quickgelu', 'openai'),\n",
       " ('ViT-B-32-quickgelu', 'laion400m_e31'),\n",
       " ('ViT-B-32-quickgelu', 'laion400m_e32'),\n",
       " ('ViT-B-16', 'openai'),\n",
       " ('ViT-B-16', 'laion400m_e31'),\n",
       " ('ViT-B-16', 'laion400m_e32'),\n",
       " ('ViT-B-16', 'laion2b_s34b_b88k'),\n",
       " ('ViT-B-16', 'datacomp_l_s1b_b8k'),\n",
       " ('ViT-B-16', 'commonpool_l_clip_s1b_b8k'),\n",
       " ('ViT-B-16', 'commonpool_l_laion_s1b_b8k'),\n",
       " ('ViT-B-16', 'commonpool_l_image_s1b_b8k'),\n",
       " ('ViT-B-16', 'commonpool_l_text_s1b_b8k'),\n",
       " ('ViT-B-16', 'commonpool_l_basic_s1b_b8k'),\n",
       " ('ViT-B-16', 'commonpool_l_s1b_b8k'),\n",
       " ('ViT-B-16-plus-240', 'laion400m_e31'),\n",
       " ('ViT-B-16-plus-240', 'laion400m_e32'),\n",
       " ('ViT-L-14', 'openai'),\n",
       " ('ViT-L-14', 'laion400m_e31'),\n",
       " ('ViT-L-14', 'laion400m_e32'),\n",
       " ('ViT-L-14', 'laion2b_s32b_b82k'),\n",
       " ('ViT-L-14', 'datacomp_xl_s13b_b90k'),\n",
       " ('ViT-L-14', 'commonpool_xl_clip_s13b_b90k'),\n",
       " ('ViT-L-14', 'commonpool_xl_laion_s13b_b90k'),\n",
       " ('ViT-L-14', 'commonpool_xl_s13b_b90k'),\n",
       " ('ViT-L-14-336', 'openai'),\n",
       " ('ViT-H-14', 'laion2b_s32b_b79k'),\n",
       " ('ViT-g-14', 'laion2b_s12b_b42k'),\n",
       " ('ViT-g-14', 'laion2b_s34b_b88k'),\n",
       " ('ViT-bigG-14', 'laion2b_s39b_b160k'),\n",
       " ('roberta-ViT-B-32', 'laion2b_s12b_b32k'),\n",
       " ('xlm-roberta-base-ViT-B-32', 'laion5b_s13b_b90k'),\n",
       " ('xlm-roberta-large-ViT-H-14', 'frozen_laion5b_s13b_b90k'),\n",
       " ('convnext_base', 'laion400m_s13b_b51k'),\n",
       " ('convnext_base_w', 'laion2b_s13b_b82k'),\n",
       " ('convnext_base_w', 'laion2b_s13b_b82k_augreg'),\n",
       " ('convnext_base_w', 'laion_aesthetic_s13b_b82k'),\n",
       " ('convnext_base_w_320', 'laion_aesthetic_s13b_b82k'),\n",
       " ('convnext_base_w_320', 'laion_aesthetic_s13b_b82k_augreg'),\n",
       " ('convnext_large_d', 'laion2b_s26b_b102k_augreg'),\n",
       " ('convnext_large_d_320', 'laion2b_s29b_b131k_ft'),\n",
       " ('convnext_large_d_320', 'laion2b_s29b_b131k_ft_soup'),\n",
       " ('convnext_xxlarge', 'laion2b_s34b_b82k_augreg'),\n",
       " ('convnext_xxlarge', 'laion2b_s34b_b82k_augreg_rewind'),\n",
       " ('convnext_xxlarge', 'laion2b_s34b_b82k_augreg_soup'),\n",
       " ('coca_ViT-B-32', 'laion2b_s13b_b90k'),\n",
       " ('coca_ViT-B-32', 'mscoco_finetuned_laion2b_s13b_b90k'),\n",
       " ('coca_ViT-L-14', 'laion2b_s13b_b90k'),\n",
       " ('coca_ViT-L-14', 'mscoco_finetuned_laion2b_s13b_b90k')]"
      ]
     },
     "execution_count": 7,
     "metadata": {},
     "output_type": "execute_result"
    }
   ],
   "source": [
    "all_models"
   ]
  },
  {
   "cell_type": "code",
   "execution_count": 7,
   "metadata": {},
   "outputs": [
    {
     "name": "stdout",
     "output_type": "stream",
     "text": [
      "{'model': 'RN50_openai', 'in_dis_Acc_top1': 0.56928, 'in_dis_Acc_top5': 0.82502}\n"
     ]
    },
    {
     "name": "stderr",
     "output_type": "stream",
     "text": [
      "C:\\Users\\user01\\AppData\\Local\\Temp\\ipykernel_12696\\522587240.py:69: FutureWarning: The frame.append method is deprecated and will be removed from pandas in a future version. Use pandas.concat instead.\n",
      "  df_in = df_in.append(row, ignore_index=True)\n"
     ]
    },
    {
     "name": "stdout",
     "output_type": "stream",
     "text": [
      "{'model': 'RN50_yfcc15m', 'in_dis_Acc_top1': 0.29564, 'in_dis_Acc_top5': 0.52508}\n"
     ]
    },
    {
     "name": "stderr",
     "output_type": "stream",
     "text": [
      "C:\\Users\\user01\\AppData\\Local\\Temp\\ipykernel_12696\\522587240.py:69: FutureWarning: The frame.append method is deprecated and will be removed from pandas in a future version. Use pandas.concat instead.\n",
      "  df_in = df_in.append(row, ignore_index=True)\n"
     ]
    },
    {
     "name": "stdout",
     "output_type": "stream",
     "text": [
      "{'model': 'RN50_cc12m', 'in_dis_Acc_top1': 0.32314, 'in_dis_Acc_top5': 0.57972}\n"
     ]
    },
    {
     "name": "stderr",
     "output_type": "stream",
     "text": [
      "C:\\Users\\user01\\AppData\\Local\\Temp\\ipykernel_12696\\522587240.py:69: FutureWarning: The frame.append method is deprecated and will be removed from pandas in a future version. Use pandas.concat instead.\n",
      "  df_in = df_in.append(row, ignore_index=True)\n"
     ]
    },
    {
     "name": "stdout",
     "output_type": "stream",
     "text": [
      "{'model': 'RN50-quickgelu_openai', 'in_dis_Acc_top1': 0.56928, 'in_dis_Acc_top5': 0.82502}\n"
     ]
    },
    {
     "name": "stderr",
     "output_type": "stream",
     "text": [
      "C:\\Users\\user01\\AppData\\Local\\Temp\\ipykernel_12696\\522587240.py:69: FutureWarning: The frame.append method is deprecated and will be removed from pandas in a future version. Use pandas.concat instead.\n",
      "  df_in = df_in.append(row, ignore_index=True)\n"
     ]
    },
    {
     "name": "stdout",
     "output_type": "stream",
     "text": [
      "{'model': 'RN50-quickgelu_yfcc15m', 'in_dis_Acc_top1': 0.30184, 'in_dis_Acc_top5': 0.53858}\n"
     ]
    },
    {
     "name": "stderr",
     "output_type": "stream",
     "text": [
      "C:\\Users\\user01\\AppData\\Local\\Temp\\ipykernel_12696\\522587240.py:69: FutureWarning: The frame.append method is deprecated and will be removed from pandas in a future version. Use pandas.concat instead.\n",
      "  df_in = df_in.append(row, ignore_index=True)\n"
     ]
    },
    {
     "name": "stdout",
     "output_type": "stream",
     "text": [
      "{'model': 'RN50-quickgelu_cc12m', 'in_dis_Acc_top1': 0.32626, 'in_dis_Acc_top5': 0.5859}\n"
     ]
    },
    {
     "name": "stderr",
     "output_type": "stream",
     "text": [
      "C:\\Users\\user01\\AppData\\Local\\Temp\\ipykernel_12696\\522587240.py:69: FutureWarning: The frame.append method is deprecated and will be removed from pandas in a future version. Use pandas.concat instead.\n",
      "  df_in = df_in.append(row, ignore_index=True)\n"
     ]
    },
    {
     "name": "stdout",
     "output_type": "stream",
     "text": [
      "{'model': 'RN101_openai', 'in_dis_Acc_top1': 0.58676, 'in_dis_Acc_top5': 0.83964}\n"
     ]
    },
    {
     "name": "stderr",
     "output_type": "stream",
     "text": [
      "C:\\Users\\user01\\AppData\\Local\\Temp\\ipykernel_12696\\522587240.py:69: FutureWarning: The frame.append method is deprecated and will be removed from pandas in a future version. Use pandas.concat instead.\n",
      "  df_in = df_in.append(row, ignore_index=True)\n"
     ]
    },
    {
     "name": "stdout",
     "output_type": "stream",
     "text": [
      "{'model': 'RN101_yfcc15m', 'in_dis_Acc_top1': 0.3113, 'in_dis_Acc_top5': 0.54588}\n"
     ]
    },
    {
     "name": "stderr",
     "output_type": "stream",
     "text": [
      "C:\\Users\\user01\\AppData\\Local\\Temp\\ipykernel_12696\\522587240.py:69: FutureWarning: The frame.append method is deprecated and will be removed from pandas in a future version. Use pandas.concat instead.\n",
      "  df_in = df_in.append(row, ignore_index=True)\n"
     ]
    },
    {
     "name": "stdout",
     "output_type": "stream",
     "text": [
      "{'model': 'RN101-quickgelu_openai', 'in_dis_Acc_top1': 0.58676, 'in_dis_Acc_top5': 0.83964}\n"
     ]
    },
    {
     "name": "stderr",
     "output_type": "stream",
     "text": [
      "C:\\Users\\user01\\AppData\\Local\\Temp\\ipykernel_12696\\522587240.py:69: FutureWarning: The frame.append method is deprecated and will be removed from pandas in a future version. Use pandas.concat instead.\n",
      "  df_in = df_in.append(row, ignore_index=True)\n"
     ]
    },
    {
     "name": "stdout",
     "output_type": "stream",
     "text": [
      "{'model': 'RN101-quickgelu_yfcc15m', 'in_dis_Acc_top1': 0.31904, 'in_dis_Acc_top5': 0.55526}\n"
     ]
    },
    {
     "name": "stderr",
     "output_type": "stream",
     "text": [
      "C:\\Users\\user01\\AppData\\Local\\Temp\\ipykernel_12696\\522587240.py:69: FutureWarning: The frame.append method is deprecated and will be removed from pandas in a future version. Use pandas.concat instead.\n",
      "  df_in = df_in.append(row, ignore_index=True)\n"
     ]
    },
    {
     "name": "stdout",
     "output_type": "stream",
     "text": [
      "{'model': 'RN50x4_openai', 'in_dis_Acc_top1': 0.63164, 'in_dis_Acc_top5': 0.87102}\n"
     ]
    },
    {
     "name": "stderr",
     "output_type": "stream",
     "text": [
      "C:\\Users\\user01\\AppData\\Local\\Temp\\ipykernel_12696\\522587240.py:69: FutureWarning: The frame.append method is deprecated and will be removed from pandas in a future version. Use pandas.concat instead.\n",
      "  df_in = df_in.append(row, ignore_index=True)\n"
     ]
    },
    {
     "name": "stdout",
     "output_type": "stream",
     "text": [
      "{'model': 'RN50x16_openai', 'in_dis_Acc_top1': 0.67862, 'in_dis_Acc_top5': 0.89518}\n"
     ]
    },
    {
     "name": "stderr",
     "output_type": "stream",
     "text": [
      "C:\\Users\\user01\\AppData\\Local\\Temp\\ipykernel_12696\\522587240.py:69: FutureWarning: The frame.append method is deprecated and will be removed from pandas in a future version. Use pandas.concat instead.\n",
      "  df_in = df_in.append(row, ignore_index=True)\n"
     ]
    },
    {
     "name": "stdout",
     "output_type": "stream",
     "text": [
      "{'model': 'RN50x64_openai', 'in_dis_Acc_top1': 0.71456, 'in_dis_Acc_top5': 0.91652}\n"
     ]
    },
    {
     "name": "stderr",
     "output_type": "stream",
     "text": [
      "C:\\Users\\user01\\AppData\\Local\\Temp\\ipykernel_12696\\522587240.py:69: FutureWarning: The frame.append method is deprecated and will be removed from pandas in a future version. Use pandas.concat instead.\n",
      "  df_in = df_in.append(row, ignore_index=True)\n"
     ]
    },
    {
     "name": "stdout",
     "output_type": "stream",
     "text": [
      "{'model': 'ViT-B-32_openai', 'in_dis_Acc_top1': 0.60306, 'in_dis_Acc_top5': 0.85106}\n"
     ]
    },
    {
     "name": "stderr",
     "output_type": "stream",
     "text": [
      "C:\\Users\\user01\\AppData\\Local\\Temp\\ipykernel_12696\\522587240.py:69: FutureWarning: The frame.append method is deprecated and will be removed from pandas in a future version. Use pandas.concat instead.\n",
      "  df_in = df_in.append(row, ignore_index=True)\n"
     ]
    },
    {
     "name": "stdout",
     "output_type": "stream",
     "text": [
      "{'model': 'ViT-B-32_laion400m_e31', 'in_dis_Acc_top1': 0.56548, 'in_dis_Acc_top5': 0.81082}\n"
     ]
    },
    {
     "name": "stderr",
     "output_type": "stream",
     "text": [
      "C:\\Users\\user01\\AppData\\Local\\Temp\\ipykernel_12696\\522587240.py:69: FutureWarning: The frame.append method is deprecated and will be removed from pandas in a future version. Use pandas.concat instead.\n",
      "  df_in = df_in.append(row, ignore_index=True)\n"
     ]
    },
    {
     "name": "stdout",
     "output_type": "stream",
     "text": [
      "{'model': 'ViT-B-32_laion400m_e32', 'in_dis_Acc_top1': 0.56598, 'in_dis_Acc_top5': 0.81078}\n"
     ]
    },
    {
     "name": "stderr",
     "output_type": "stream",
     "text": [
      "C:\\Users\\user01\\AppData\\Local\\Temp\\ipykernel_12696\\522587240.py:69: FutureWarning: The frame.append method is deprecated and will be removed from pandas in a future version. Use pandas.concat instead.\n",
      "  df_in = df_in.append(row, ignore_index=True)\n"
     ]
    },
    {
     "name": "stdout",
     "output_type": "stream",
     "text": [
      "{'model': 'ViT-B-32_laion2b_e16', 'in_dis_Acc_top1': 0.6227, 'in_dis_Acc_top5': 0.85138}\n"
     ]
    },
    {
     "name": "stderr",
     "output_type": "stream",
     "text": [
      "C:\\Users\\user01\\AppData\\Local\\Temp\\ipykernel_12696\\522587240.py:69: FutureWarning: The frame.append method is deprecated and will be removed from pandas in a future version. Use pandas.concat instead.\n",
      "  df_in = df_in.append(row, ignore_index=True)\n"
     ]
    },
    {
     "name": "stdout",
     "output_type": "stream",
     "text": [
      "{'model': 'ViT-B-32_laion2b_s34b_b79k', 'in_dis_Acc_top1': 0.62866, 'in_dis_Acc_top5': 0.85968}\n"
     ]
    },
    {
     "name": "stderr",
     "output_type": "stream",
     "text": [
      "C:\\Users\\user01\\AppData\\Local\\Temp\\ipykernel_12696\\522587240.py:69: FutureWarning: The frame.append method is deprecated and will be removed from pandas in a future version. Use pandas.concat instead.\n",
      "  df_in = df_in.append(row, ignore_index=True)\n"
     ]
    },
    {
     "name": "stdout",
     "output_type": "stream",
     "text": [
      "{'model': 'ViT-B-32_datacomp_m_s128m_b4k', 'in_dis_Acc_top1': 0.27218, 'in_dis_Acc_top5': 0.50548}\n"
     ]
    },
    {
     "name": "stderr",
     "output_type": "stream",
     "text": [
      "C:\\Users\\user01\\AppData\\Local\\Temp\\ipykernel_12696\\522587240.py:69: FutureWarning: The frame.append method is deprecated and will be removed from pandas in a future version. Use pandas.concat instead.\n",
      "  df_in = df_in.append(row, ignore_index=True)\n"
     ]
    },
    {
     "name": "stdout",
     "output_type": "stream",
     "text": [
      "{'model': 'ViT-B-32_commonpool_m_clip_s128m_b4k', 'in_dis_Acc_top1': 0.25168, 'in_dis_Acc_top5': 0.48224}\n"
     ]
    },
    {
     "name": "stderr",
     "output_type": "stream",
     "text": [
      "C:\\Users\\user01\\AppData\\Local\\Temp\\ipykernel_12696\\522587240.py:69: FutureWarning: The frame.append method is deprecated and will be removed from pandas in a future version. Use pandas.concat instead.\n",
      "  df_in = df_in.append(row, ignore_index=True)\n"
     ]
    },
    {
     "name": "stdout",
     "output_type": "stream",
     "text": [
      "{'model': 'ViT-B-32_commonpool_m_laion_s128m_b4k', 'in_dis_Acc_top1': 0.21076, 'in_dis_Acc_top5': 0.4188}\n"
     ]
    },
    {
     "name": "stderr",
     "output_type": "stream",
     "text": [
      "C:\\Users\\user01\\AppData\\Local\\Temp\\ipykernel_12696\\522587240.py:69: FutureWarning: The frame.append method is deprecated and will be removed from pandas in a future version. Use pandas.concat instead.\n",
      "  df_in = df_in.append(row, ignore_index=True)\n"
     ]
    },
    {
     "name": "stdout",
     "output_type": "stream",
     "text": [
      "{'model': 'ViT-B-32_commonpool_m_image_s128m_b4k', 'in_dis_Acc_top1': 0.2473, 'in_dis_Acc_top5': 0.47584}\n"
     ]
    },
    {
     "name": "stderr",
     "output_type": "stream",
     "text": [
      "C:\\Users\\user01\\AppData\\Local\\Temp\\ipykernel_12696\\522587240.py:69: FutureWarning: The frame.append method is deprecated and will be removed from pandas in a future version. Use pandas.concat instead.\n",
      "  df_in = df_in.append(row, ignore_index=True)\n"
     ]
    },
    {
     "name": "stdout",
     "output_type": "stream",
     "text": [
      "{'model': 'ViT-B-32_commonpool_m_text_s128m_b4k', 'in_dis_Acc_top1': 0.23394, 'in_dis_Acc_top5': 0.4627}\n"
     ]
    },
    {
     "name": "stderr",
     "output_type": "stream",
     "text": [
      "C:\\Users\\user01\\AppData\\Local\\Temp\\ipykernel_12696\\522587240.py:69: FutureWarning: The frame.append method is deprecated and will be removed from pandas in a future version. Use pandas.concat instead.\n",
      "  df_in = df_in.append(row, ignore_index=True)\n"
     ]
    },
    {
     "name": "stdout",
     "output_type": "stream",
     "text": [
      "{'model': 'ViT-B-32_commonpool_m_basic_s128m_b4k', 'in_dis_Acc_top1': 0.20786, 'in_dis_Acc_top5': 0.41718}\n"
     ]
    },
    {
     "name": "stderr",
     "output_type": "stream",
     "text": [
      "C:\\Users\\user01\\AppData\\Local\\Temp\\ipykernel_12696\\522587240.py:69: FutureWarning: The frame.append method is deprecated and will be removed from pandas in a future version. Use pandas.concat instead.\n",
      "  df_in = df_in.append(row, ignore_index=True)\n"
     ]
    },
    {
     "name": "stdout",
     "output_type": "stream",
     "text": [
      "{'model': 'ViT-B-32_commonpool_m_s128m_b4k', 'in_dis_Acc_top1': 0.16494, 'in_dis_Acc_top5': 0.35224}\n"
     ]
    },
    {
     "name": "stderr",
     "output_type": "stream",
     "text": [
      "C:\\Users\\user01\\AppData\\Local\\Temp\\ipykernel_12696\\522587240.py:69: FutureWarning: The frame.append method is deprecated and will be removed from pandas in a future version. Use pandas.concat instead.\n",
      "  df_in = df_in.append(row, ignore_index=True)\n"
     ]
    },
    {
     "name": "stdout",
     "output_type": "stream",
     "text": [
      "{'model': 'ViT-B-32_datacomp_s_s13m_b4k', 'in_dis_Acc_top1': 0.03618, 'in_dis_Acc_top5': 0.1097}\n"
     ]
    },
    {
     "name": "stderr",
     "output_type": "stream",
     "text": [
      "C:\\Users\\user01\\AppData\\Local\\Temp\\ipykernel_12696\\522587240.py:69: FutureWarning: The frame.append method is deprecated and will be removed from pandas in a future version. Use pandas.concat instead.\n",
      "  df_in = df_in.append(row, ignore_index=True)\n"
     ]
    },
    {
     "name": "stdout",
     "output_type": "stream",
     "text": [
      "{'model': 'ViT-B-32_commonpool_s_clip_s13m_b4k', 'in_dis_Acc_top1': 0.04692, 'in_dis_Acc_top5': 0.13096}\n"
     ]
    },
    {
     "name": "stderr",
     "output_type": "stream",
     "text": [
      "C:\\Users\\user01\\AppData\\Local\\Temp\\ipykernel_12696\\522587240.py:69: FutureWarning: The frame.append method is deprecated and will be removed from pandas in a future version. Use pandas.concat instead.\n",
      "  df_in = df_in.append(row, ignore_index=True)\n"
     ]
    },
    {
     "name": "stdout",
     "output_type": "stream",
     "text": [
      "{'model': 'ViT-B-32_commonpool_s_laion_s13m_b4k', 'in_dis_Acc_top1': 0.02832, 'in_dis_Acc_top5': 0.08706}\n"
     ]
    },
    {
     "name": "stderr",
     "output_type": "stream",
     "text": [
      "C:\\Users\\user01\\AppData\\Local\\Temp\\ipykernel_12696\\522587240.py:69: FutureWarning: The frame.append method is deprecated and will be removed from pandas in a future version. Use pandas.concat instead.\n",
      "  df_in = df_in.append(row, ignore_index=True)\n"
     ]
    },
    {
     "name": "stdout",
     "output_type": "stream",
     "text": [
      "{'model': 'ViT-B-32_commonpool_s_image_s13m_b4k', 'in_dis_Acc_top1': 0.03618, 'in_dis_Acc_top5': 0.1097}\n"
     ]
    },
    {
     "name": "stderr",
     "output_type": "stream",
     "text": [
      "C:\\Users\\user01\\AppData\\Local\\Temp\\ipykernel_12696\\522587240.py:69: FutureWarning: The frame.append method is deprecated and will be removed from pandas in a future version. Use pandas.concat instead.\n",
      "  df_in = df_in.append(row, ignore_index=True)\n"
     ]
    },
    {
     "name": "stdout",
     "output_type": "stream",
     "text": [
      "{'model': 'ViT-B-32_commonpool_s_text_s13m_b4k', 'in_dis_Acc_top1': 0.04386, 'in_dis_Acc_top5': 0.12768}\n"
     ]
    },
    {
     "name": "stderr",
     "output_type": "stream",
     "text": [
      "C:\\Users\\user01\\AppData\\Local\\Temp\\ipykernel_12696\\522587240.py:69: FutureWarning: The frame.append method is deprecated and will be removed from pandas in a future version. Use pandas.concat instead.\n",
      "  df_in = df_in.append(row, ignore_index=True)\n"
     ]
    },
    {
     "name": "stdout",
     "output_type": "stream",
     "text": [
      "{'model': 'ViT-B-32_commonpool_s_basic_s13m_b4k', 'in_dis_Acc_top1': 0.03522, 'in_dis_Acc_top5': 0.10616}\n"
     ]
    },
    {
     "name": "stderr",
     "output_type": "stream",
     "text": [
      "C:\\Users\\user01\\AppData\\Local\\Temp\\ipykernel_12696\\522587240.py:69: FutureWarning: The frame.append method is deprecated and will be removed from pandas in a future version. Use pandas.concat instead.\n",
      "  df_in = df_in.append(row, ignore_index=True)\n"
     ]
    },
    {
     "name": "stdout",
     "output_type": "stream",
     "text": [
      "{'model': 'ViT-B-32_commonpool_s_s13m_b4k', 'in_dis_Acc_top1': 0.0265, 'in_dis_Acc_top5': 0.08392}\n"
     ]
    },
    {
     "name": "stderr",
     "output_type": "stream",
     "text": [
      "C:\\Users\\user01\\AppData\\Local\\Temp\\ipykernel_12696\\522587240.py:69: FutureWarning: The frame.append method is deprecated and will be removed from pandas in a future version. Use pandas.concat instead.\n",
      "  df_in = df_in.append(row, ignore_index=True)\n"
     ]
    },
    {
     "name": "stdout",
     "output_type": "stream",
     "text": [
      "{'model': 'ViT-B-32-quickgelu_openai', 'in_dis_Acc_top1': 0.60306, 'in_dis_Acc_top5': 0.85106}\n"
     ]
    },
    {
     "name": "stderr",
     "output_type": "stream",
     "text": [
      "C:\\Users\\user01\\AppData\\Local\\Temp\\ipykernel_12696\\522587240.py:69: FutureWarning: The frame.append method is deprecated and will be removed from pandas in a future version. Use pandas.concat instead.\n",
      "  df_in = df_in.append(row, ignore_index=True)\n"
     ]
    },
    {
     "name": "stdout",
     "output_type": "stream",
     "text": [
      "{'model': 'ViT-B-32-quickgelu_laion400m_e31', 'in_dis_Acc_top1': 0.5937, 'in_dis_Acc_top5': 0.83324}\n"
     ]
    },
    {
     "name": "stderr",
     "output_type": "stream",
     "text": [
      "C:\\Users\\user01\\AppData\\Local\\Temp\\ipykernel_12696\\522587240.py:69: FutureWarning: The frame.append method is deprecated and will be removed from pandas in a future version. Use pandas.concat instead.\n",
      "  df_in = df_in.append(row, ignore_index=True)\n"
     ]
    },
    {
     "name": "stdout",
     "output_type": "stream",
     "text": [
      "{'model': 'ViT-B-32-quickgelu_laion400m_e32', 'in_dis_Acc_top1': 0.59454, 'in_dis_Acc_top5': 0.83272}\n"
     ]
    },
    {
     "name": "stderr",
     "output_type": "stream",
     "text": [
      "C:\\Users\\user01\\AppData\\Local\\Temp\\ipykernel_12696\\522587240.py:69: FutureWarning: The frame.append method is deprecated and will be removed from pandas in a future version. Use pandas.concat instead.\n",
      "  df_in = df_in.append(row, ignore_index=True)\n"
     ]
    },
    {
     "name": "stdout",
     "output_type": "stream",
     "text": [
      "{'model': 'ViT-B-16_openai', 'in_dis_Acc_top1': 0.6513, 'in_dis_Acc_top5': 0.88152}\n"
     ]
    },
    {
     "name": "stderr",
     "output_type": "stream",
     "text": [
      "C:\\Users\\user01\\AppData\\Local\\Temp\\ipykernel_12696\\522587240.py:69: FutureWarning: The frame.append method is deprecated and will be removed from pandas in a future version. Use pandas.concat instead.\n",
      "  df_in = df_in.append(row, ignore_index=True)\n"
     ]
    },
    {
     "name": "stdout",
     "output_type": "stream",
     "text": [
      "{'model': 'ViT-B-16_laion400m_e31', 'in_dis_Acc_top1': 0.6315, 'in_dis_Acc_top5': 0.8593}\n"
     ]
    },
    {
     "name": "stderr",
     "output_type": "stream",
     "text": [
      "C:\\Users\\user01\\AppData\\Local\\Temp\\ipykernel_12696\\522587240.py:69: FutureWarning: The frame.append method is deprecated and will be removed from pandas in a future version. Use pandas.concat instead.\n",
      "  df_in = df_in.append(row, ignore_index=True)\n"
     ]
    },
    {
     "name": "stdout",
     "output_type": "stream",
     "text": [
      "{'model': 'ViT-B-16_laion400m_e32', 'in_dis_Acc_top1': 0.63314, 'in_dis_Acc_top5': 0.86038}\n"
     ]
    },
    {
     "name": "stderr",
     "output_type": "stream",
     "text": [
      "C:\\Users\\user01\\AppData\\Local\\Temp\\ipykernel_12696\\522587240.py:69: FutureWarning: The frame.append method is deprecated and will be removed from pandas in a future version. Use pandas.concat instead.\n",
      "  df_in = df_in.append(row, ignore_index=True)\n"
     ]
    },
    {
     "name": "stdout",
     "output_type": "stream",
     "text": [
      "{'model': 'ViT-B-16_laion2b_s34b_b88k', 'in_dis_Acc_top1': 0.66318, 'in_dis_Acc_top5': 0.87692}\n"
     ]
    },
    {
     "name": "stderr",
     "output_type": "stream",
     "text": [
      "C:\\Users\\user01\\AppData\\Local\\Temp\\ipykernel_12696\\522587240.py:69: FutureWarning: The frame.append method is deprecated and will be removed from pandas in a future version. Use pandas.concat instead.\n",
      "  df_in = df_in.append(row, ignore_index=True)\n"
     ]
    },
    {
     "name": "stdout",
     "output_type": "stream",
     "text": [
      "{'model': 'ViT-B-16_datacomp_l_s1b_b8k', 'in_dis_Acc_top1': 0.59412, 'in_dis_Acc_top5': 0.83294}\n"
     ]
    },
    {
     "name": "stderr",
     "output_type": "stream",
     "text": [
      "C:\\Users\\user01\\AppData\\Local\\Temp\\ipykernel_12696\\522587240.py:69: FutureWarning: The frame.append method is deprecated and will be removed from pandas in a future version. Use pandas.concat instead.\n",
      "  df_in = df_in.append(row, ignore_index=True)\n"
     ]
    },
    {
     "name": "stdout",
     "output_type": "stream",
     "text": [
      "{'model': 'ViT-B-16_commonpool_l_clip_s1b_b8k', 'in_dis_Acc_top1': 0.53934, 'in_dis_Acc_top5': 0.80182}\n"
     ]
    },
    {
     "name": "stderr",
     "output_type": "stream",
     "text": [
      "C:\\Users\\user01\\AppData\\Local\\Temp\\ipykernel_12696\\522587240.py:69: FutureWarning: The frame.append method is deprecated and will be removed from pandas in a future version. Use pandas.concat instead.\n",
      "  df_in = df_in.append(row, ignore_index=True)\n"
     ]
    },
    {
     "name": "stdout",
     "output_type": "stream",
     "text": [
      "{'model': 'ViT-B-16_commonpool_l_laion_s1b_b8k', 'in_dis_Acc_top1': 0.5139, 'in_dis_Acc_top5': 0.7814}\n"
     ]
    },
    {
     "name": "stderr",
     "output_type": "stream",
     "text": [
      "C:\\Users\\user01\\AppData\\Local\\Temp\\ipykernel_12696\\522587240.py:69: FutureWarning: The frame.append method is deprecated and will be removed from pandas in a future version. Use pandas.concat instead.\n",
      "  df_in = df_in.append(row, ignore_index=True)\n"
     ]
    },
    {
     "name": "stdout",
     "output_type": "stream",
     "text": [
      "{'model': 'ViT-B-16_commonpool_l_image_s1b_b8k', 'in_dis_Acc_top1': 0.53682, 'in_dis_Acc_top5': 0.79906}\n"
     ]
    },
    {
     "name": "stderr",
     "output_type": "stream",
     "text": [
      "C:\\Users\\user01\\AppData\\Local\\Temp\\ipykernel_12696\\522587240.py:69: FutureWarning: The frame.append method is deprecated and will be removed from pandas in a future version. Use pandas.concat instead.\n",
      "  df_in = df_in.append(row, ignore_index=True)\n"
     ]
    },
    {
     "name": "stdout",
     "output_type": "stream",
     "text": [
      "{'model': 'ViT-B-16_commonpool_l_text_s1b_b8k', 'in_dis_Acc_top1': 0.52148, 'in_dis_Acc_top5': 0.78672}\n"
     ]
    },
    {
     "name": "stderr",
     "output_type": "stream",
     "text": [
      "C:\\Users\\user01\\AppData\\Local\\Temp\\ipykernel_12696\\522587240.py:69: FutureWarning: The frame.append method is deprecated and will be removed from pandas in a future version. Use pandas.concat instead.\n",
      "  df_in = df_in.append(row, ignore_index=True)\n"
     ]
    },
    {
     "name": "stdout",
     "output_type": "stream",
     "text": [
      "{'model': 'ViT-B-16_commonpool_l_basic_s1b_b8k', 'in_dis_Acc_top1': 0.4813, 'in_dis_Acc_top5': 0.74724}\n"
     ]
    },
    {
     "name": "stderr",
     "output_type": "stream",
     "text": [
      "C:\\Users\\user01\\AppData\\Local\\Temp\\ipykernel_12696\\522587240.py:69: FutureWarning: The frame.append method is deprecated and will be removed from pandas in a future version. Use pandas.concat instead.\n",
      "  df_in = df_in.append(row, ignore_index=True)\n"
     ]
    },
    {
     "name": "stdout",
     "output_type": "stream",
     "text": [
      "{'model': 'ViT-B-16_commonpool_l_s1b_b8k', 'in_dis_Acc_top1': 0.42824, 'in_dis_Acc_top5': 0.69878}\n"
     ]
    },
    {
     "name": "stderr",
     "output_type": "stream",
     "text": [
      "C:\\Users\\user01\\AppData\\Local\\Temp\\ipykernel_12696\\522587240.py:69: FutureWarning: The frame.append method is deprecated and will be removed from pandas in a future version. Use pandas.concat instead.\n",
      "  df_in = df_in.append(row, ignore_index=True)\n"
     ]
    },
    {
     "name": "stdout",
     "output_type": "stream",
     "text": [
      "{'model': 'ViT-B-16-plus-240_laion400m_e31', 'in_dis_Acc_top1': 0.65036, 'in_dis_Acc_top5': 0.87356}\n"
     ]
    },
    {
     "name": "stderr",
     "output_type": "stream",
     "text": [
      "C:\\Users\\user01\\AppData\\Local\\Temp\\ipykernel_12696\\522587240.py:69: FutureWarning: The frame.append method is deprecated and will be removed from pandas in a future version. Use pandas.concat instead.\n",
      "  df_in = df_in.append(row, ignore_index=True)\n"
     ]
    },
    {
     "name": "stdout",
     "output_type": "stream",
     "text": [
      "{'model': 'ViT-B-16-plus-240_laion400m_e32', 'in_dis_Acc_top1': 0.65098, 'in_dis_Acc_top5': 0.87444}\n"
     ]
    },
    {
     "name": "stderr",
     "output_type": "stream",
     "text": [
      "C:\\Users\\user01\\AppData\\Local\\Temp\\ipykernel_12696\\522587240.py:69: FutureWarning: The frame.append method is deprecated and will be removed from pandas in a future version. Use pandas.concat instead.\n",
      "  df_in = df_in.append(row, ignore_index=True)\n"
     ]
    },
    {
     "name": "stdout",
     "output_type": "stream",
     "text": [
      "{'model': 'ViT-L-14_openai', 'in_dis_Acc_top1': 0.72592, 'in_dis_Acc_top5': 0.9192}\n"
     ]
    },
    {
     "name": "stderr",
     "output_type": "stream",
     "text": [
      "C:\\Users\\user01\\AppData\\Local\\Temp\\ipykernel_12696\\522587240.py:69: FutureWarning: The frame.append method is deprecated and will be removed from pandas in a future version. Use pandas.concat instead.\n",
      "  df_in = df_in.append(row, ignore_index=True)\n"
     ]
    },
    {
     "name": "stdout",
     "output_type": "stream",
     "text": [
      "{'model': 'ViT-L-14_laion400m_e31', 'in_dis_Acc_top1': 0.69078, 'in_dis_Acc_top5': 0.89318}\n"
     ]
    },
    {
     "name": "stderr",
     "output_type": "stream",
     "text": [
      "C:\\Users\\user01\\AppData\\Local\\Temp\\ipykernel_12696\\522587240.py:69: FutureWarning: The frame.append method is deprecated and will be removed from pandas in a future version. Use pandas.concat instead.\n",
      "  df_in = df_in.append(row, ignore_index=True)\n"
     ]
    },
    {
     "name": "stdout",
     "output_type": "stream",
     "text": [
      "{'model': 'ViT-L-14_laion400m_e32', 'in_dis_Acc_top1': 0.6917, 'in_dis_Acc_top5': 0.89294}\n"
     ]
    },
    {
     "name": "stderr",
     "output_type": "stream",
     "text": [
      "C:\\Users\\user01\\AppData\\Local\\Temp\\ipykernel_12696\\522587240.py:69: FutureWarning: The frame.append method is deprecated and will be removed from pandas in a future version. Use pandas.concat instead.\n",
      "  df_in = df_in.append(row, ignore_index=True)\n"
     ]
    },
    {
     "name": "stdout",
     "output_type": "stream",
     "text": [
      "{'model': 'ViT-L-14_laion2b_s32b_b82k', 'in_dis_Acc_top1': 0.71558, 'in_dis_Acc_top5': 0.90898}\n"
     ]
    },
    {
     "name": "stderr",
     "output_type": "stream",
     "text": [
      "C:\\Users\\user01\\AppData\\Local\\Temp\\ipykernel_12696\\522587240.py:69: FutureWarning: The frame.append method is deprecated and will be removed from pandas in a future version. Use pandas.concat instead.\n",
      "  df_in = df_in.append(row, ignore_index=True)\n"
     ]
    },
    {
     "name": "stdout",
     "output_type": "stream",
     "text": [
      "{'model': 'ViT-L-14_datacomp_xl_s13b_b90k', 'in_dis_Acc_top1': 0.7622, 'in_dis_Acc_top5': 0.92996}\n"
     ]
    },
    {
     "name": "stderr",
     "output_type": "stream",
     "text": [
      "C:\\Users\\user01\\AppData\\Local\\Temp\\ipykernel_12696\\522587240.py:69: FutureWarning: The frame.append method is deprecated and will be removed from pandas in a future version. Use pandas.concat instead.\n",
      "  df_in = df_in.append(row, ignore_index=True)\n"
     ]
    },
    {
     "name": "stdout",
     "output_type": "stream",
     "text": [
      "{'model': 'ViT-L-14_commonpool_xl_clip_s13b_b90k', 'in_dis_Acc_top1': 0.7325, 'in_dis_Acc_top5': 0.9199}\n"
     ]
    },
    {
     "name": "stderr",
     "output_type": "stream",
     "text": [
      "C:\\Users\\user01\\AppData\\Local\\Temp\\ipykernel_12696\\522587240.py:69: FutureWarning: The frame.append method is deprecated and will be removed from pandas in a future version. Use pandas.concat instead.\n",
      "  df_in = df_in.append(row, ignore_index=True)\n"
     ]
    },
    {
     "name": "stdout",
     "output_type": "stream",
     "text": [
      "{'model': 'ViT-L-14_commonpool_xl_laion_s13b_b90k', 'in_dis_Acc_top1': 0.71732, 'in_dis_Acc_top5': 0.9115}\n"
     ]
    },
    {
     "name": "stderr",
     "output_type": "stream",
     "text": [
      "C:\\Users\\user01\\AppData\\Local\\Temp\\ipykernel_12696\\522587240.py:69: FutureWarning: The frame.append method is deprecated and will be removed from pandas in a future version. Use pandas.concat instead.\n",
      "  df_in = df_in.append(row, ignore_index=True)\n"
     ]
    },
    {
     "name": "stdout",
     "output_type": "stream",
     "text": [
      "{'model': 'ViT-L-14_commonpool_xl_s13b_b90k', 'in_dis_Acc_top1': 0.6904, 'in_dis_Acc_top5': 0.90182}\n"
     ]
    },
    {
     "name": "stderr",
     "output_type": "stream",
     "text": [
      "C:\\Users\\user01\\AppData\\Local\\Temp\\ipykernel_12696\\522587240.py:69: FutureWarning: The frame.append method is deprecated and will be removed from pandas in a future version. Use pandas.concat instead.\n",
      "  df_in = df_in.append(row, ignore_index=True)\n"
     ]
    },
    {
     "name": "stdout",
     "output_type": "stream",
     "text": [
      "{'model': 'ViT-L-14-336_openai', 'in_dis_Acc_top1': 0.736, 'in_dis_Acc_top5': 0.92548}\n"
     ]
    },
    {
     "name": "stderr",
     "output_type": "stream",
     "text": [
      "C:\\Users\\user01\\AppData\\Local\\Temp\\ipykernel_12696\\522587240.py:69: FutureWarning: The frame.append method is deprecated and will be removed from pandas in a future version. Use pandas.concat instead.\n",
      "  df_in = df_in.append(row, ignore_index=True)\n"
     ]
    },
    {
     "name": "stdout",
     "output_type": "stream",
     "text": [
      "{'model': 'ViT-H-14_laion2b_s32b_b79k', 'in_dis_Acc_top1': 0.74454, 'in_dis_Acc_top5': 0.92246}\n"
     ]
    },
    {
     "name": "stderr",
     "output_type": "stream",
     "text": [
      "C:\\Users\\user01\\AppData\\Local\\Temp\\ipykernel_12696\\522587240.py:69: FutureWarning: The frame.append method is deprecated and will be removed from pandas in a future version. Use pandas.concat instead.\n",
      "  df_in = df_in.append(row, ignore_index=True)\n"
     ]
    },
    {
     "name": "stdout",
     "output_type": "stream",
     "text": [
      "{'model': 'ViT-g-14_laion2b_s12b_b42k', 'in_dis_Acc_top1': 0.733, 'in_dis_Acc_top5': 0.9186}\n"
     ]
    },
    {
     "name": "stderr",
     "output_type": "stream",
     "text": [
      "C:\\Users\\user01\\AppData\\Local\\Temp\\ipykernel_12696\\522587240.py:69: FutureWarning: The frame.append method is deprecated and will be removed from pandas in a future version. Use pandas.concat instead.\n",
      "  df_in = df_in.append(row, ignore_index=True)\n"
     ]
    },
    {
     "name": "stdout",
     "output_type": "stream",
     "text": [
      "{'model': 'ViT-g-14_laion2b_s34b_b88k', 'in_dis_Acc_top1': 0.7503, 'in_dis_Acc_top5': 0.9258}\n"
     ]
    },
    {
     "name": "stderr",
     "output_type": "stream",
     "text": [
      "C:\\Users\\user01\\AppData\\Local\\Temp\\ipykernel_12696\\522587240.py:69: FutureWarning: The frame.append method is deprecated and will be removed from pandas in a future version. Use pandas.concat instead.\n",
      "  df_in = df_in.append(row, ignore_index=True)\n"
     ]
    },
    {
     "name": "stdout",
     "output_type": "stream",
     "text": [
      "{'model': 'ViT-bigG-14_laion2b_s39b_b160k', 'in_dis_Acc_top1': 0.76782, 'in_dis_Acc_top5': 0.93608}\n"
     ]
    },
    {
     "name": "stderr",
     "output_type": "stream",
     "text": [
      "C:\\Users\\user01\\AppData\\Local\\Temp\\ipykernel_12696\\522587240.py:69: FutureWarning: The frame.append method is deprecated and will be removed from pandas in a future version. Use pandas.concat instead.\n",
      "  df_in = df_in.append(row, ignore_index=True)\n",
      "Some weights of the model checkpoint at roberta-base were not used when initializing RobertaModel: ['lm_head.dense.weight', 'lm_head.bias', 'lm_head.dense.bias', 'lm_head.layer_norm.bias', 'lm_head.layer_norm.weight']\n",
      "- This IS expected if you are initializing RobertaModel from the checkpoint of a model trained on another task or with another architecture (e.g. initializing a BertForSequenceClassification model from a BertForPreTraining model).\n",
      "- This IS NOT expected if you are initializing RobertaModel from the checkpoint of a model that you expect to be exactly identical (initializing a BertForSequenceClassification model from a BertForSequenceClassification model).\n"
     ]
    },
    {
     "name": "stdout",
     "output_type": "stream",
     "text": [
      "{'model': 'roberta-ViT-B-32_laion2b_s12b_b32k', 'in_dis_Acc_top1': 0.58052, 'in_dis_Acc_top5': 0.82466}\n"
     ]
    },
    {
     "name": "stderr",
     "output_type": "stream",
     "text": [
      "C:\\Users\\user01\\AppData\\Local\\Temp\\ipykernel_12696\\522587240.py:69: FutureWarning: The frame.append method is deprecated and will be removed from pandas in a future version. Use pandas.concat instead.\n",
      "  df_in = df_in.append(row, ignore_index=True)\n",
      "Some weights of the model checkpoint at xlm-roberta-base were not used when initializing XLMRobertaModel: ['roberta.pooler.dense.bias', 'lm_head.dense.weight', 'lm_head.bias', 'lm_head.dense.bias', 'lm_head.layer_norm.bias', 'lm_head.layer_norm.weight', 'roberta.pooler.dense.weight']\n",
      "- This IS expected if you are initializing XLMRobertaModel from the checkpoint of a model trained on another task or with another architecture (e.g. initializing a BertForSequenceClassification model from a BertForPreTraining model).\n",
      "- This IS NOT expected if you are initializing XLMRobertaModel from the checkpoint of a model that you expect to be exactly identical (initializing a BertForSequenceClassification model from a BertForSequenceClassification model).\n"
     ]
    },
    {
     "name": "stdout",
     "output_type": "stream",
     "text": [
      "{'model': 'xlm-roberta-base-ViT-B-32_laion5b_s13b_b90k', 'in_dis_Acc_top1': 0.58994, 'in_dis_Acc_top5': 0.83234}\n"
     ]
    },
    {
     "name": "stderr",
     "output_type": "stream",
     "text": [
      "C:\\Users\\user01\\AppData\\Local\\Temp\\ipykernel_12696\\522587240.py:69: FutureWarning: The frame.append method is deprecated and will be removed from pandas in a future version. Use pandas.concat instead.\n",
      "  df_in = df_in.append(row, ignore_index=True)\n",
      "Some weights of the model checkpoint at xlm-roberta-large were not used when initializing XLMRobertaModel: ['roberta.pooler.dense.bias', 'lm_head.dense.weight', 'lm_head.bias', 'lm_head.dense.bias', 'lm_head.layer_norm.bias', 'lm_head.layer_norm.weight', 'roberta.pooler.dense.weight']\n",
      "- This IS expected if you are initializing XLMRobertaModel from the checkpoint of a model trained on another task or with another architecture (e.g. initializing a BertForSequenceClassification model from a BertForPreTraining model).\n",
      "- This IS NOT expected if you are initializing XLMRobertaModel from the checkpoint of a model that you expect to be exactly identical (initializing a BertForSequenceClassification model from a BertForSequenceClassification model).\n"
     ]
    },
    {
     "name": "stdout",
     "output_type": "stream",
     "text": [
      "{'model': 'xlm-roberta-large-ViT-H-14_frozen_laion5b_s13b_b90k', 'in_dis_Acc_top1': 0.73186, 'in_dis_Acc_top5': 0.91834}\n",
      "{'model': 'convnext_base_laion400m_s13b_b51k', 'in_dis_Acc_top1': 0, 'in_dis_Acc_top5': 0}\n",
      "{'model': 'convnext_base_w_laion2b_s13b_b82k', 'in_dis_Acc_top1': 0, 'in_dis_Acc_top5': 0}\n",
      "{'model': 'convnext_base_w_laion2b_s13b_b82k_augreg', 'in_dis_Acc_top1': 0, 'in_dis_Acc_top5': 0}\n",
      "{'model': 'convnext_base_w_laion_aesthetic_s13b_b82k', 'in_dis_Acc_top1': 0, 'in_dis_Acc_top5': 0}\n",
      "{'model': 'convnext_base_w_320_laion_aesthetic_s13b_b82k', 'in_dis_Acc_top1': 0, 'in_dis_Acc_top5': 0}\n",
      "{'model': 'convnext_base_w_320_laion_aesthetic_s13b_b82k_augreg', 'in_dis_Acc_top1': 0, 'in_dis_Acc_top5': 0}\n",
      "{'model': 'convnext_large_d_laion2b_s26b_b102k_augreg', 'in_dis_Acc_top1': 0, 'in_dis_Acc_top5': 0}\n",
      "{'model': 'convnext_large_d_320_laion2b_s29b_b131k_ft', 'in_dis_Acc_top1': 0, 'in_dis_Acc_top5': 0}\n",
      "{'model': 'convnext_large_d_320_laion2b_s29b_b131k_ft_soup', 'in_dis_Acc_top1': 0, 'in_dis_Acc_top5': 0}\n",
      "{'model': 'convnext_xxlarge_laion2b_s34b_b82k_augreg', 'in_dis_Acc_top1': 0, 'in_dis_Acc_top5': 0}\n",
      "{'model': 'convnext_xxlarge_laion2b_s34b_b82k_augreg_rewind', 'in_dis_Acc_top1': 0, 'in_dis_Acc_top5': 0}\n",
      "{'model': 'convnext_xxlarge_laion2b_s34b_b82k_augreg_soup', 'in_dis_Acc_top1': 0, 'in_dis_Acc_top5': 0}\n"
     ]
    },
    {
     "name": "stderr",
     "output_type": "stream",
     "text": [
      "C:\\Users\\user01\\AppData\\Local\\Temp\\ipykernel_12696\\522587240.py:69: FutureWarning: The frame.append method is deprecated and will be removed from pandas in a future version. Use pandas.concat instead.\n",
      "  df_in = df_in.append(row, ignore_index=True)\n",
      "C:\\Users\\user01\\AppData\\Local\\Temp\\ipykernel_12696\\522587240.py:75: FutureWarning: The frame.append method is deprecated and will be removed from pandas in a future version. Use pandas.concat instead.\n",
      "  df_in = df_in.append(row, ignore_index=True)\n",
      "C:\\Users\\user01\\AppData\\Local\\Temp\\ipykernel_12696\\522587240.py:75: FutureWarning: The frame.append method is deprecated and will be removed from pandas in a future version. Use pandas.concat instead.\n",
      "  df_in = df_in.append(row, ignore_index=True)\n",
      "C:\\Users\\user01\\AppData\\Local\\Temp\\ipykernel_12696\\522587240.py:75: FutureWarning: The frame.append method is deprecated and will be removed from pandas in a future version. Use pandas.concat instead.\n",
      "  df_in = df_in.append(row, ignore_index=True)\n",
      "C:\\Users\\user01\\AppData\\Local\\Temp\\ipykernel_12696\\522587240.py:75: FutureWarning: The frame.append method is deprecated and will be removed from pandas in a future version. Use pandas.concat instead.\n",
      "  df_in = df_in.append(row, ignore_index=True)\n",
      "C:\\Users\\user01\\AppData\\Local\\Temp\\ipykernel_12696\\522587240.py:75: FutureWarning: The frame.append method is deprecated and will be removed from pandas in a future version. Use pandas.concat instead.\n",
      "  df_in = df_in.append(row, ignore_index=True)\n",
      "C:\\Users\\user01\\AppData\\Local\\Temp\\ipykernel_12696\\522587240.py:75: FutureWarning: The frame.append method is deprecated and will be removed from pandas in a future version. Use pandas.concat instead.\n",
      "  df_in = df_in.append(row, ignore_index=True)\n",
      "C:\\Users\\user01\\AppData\\Local\\Temp\\ipykernel_12696\\522587240.py:75: FutureWarning: The frame.append method is deprecated and will be removed from pandas in a future version. Use pandas.concat instead.\n",
      "  df_in = df_in.append(row, ignore_index=True)\n",
      "C:\\Users\\user01\\AppData\\Local\\Temp\\ipykernel_12696\\522587240.py:75: FutureWarning: The frame.append method is deprecated and will be removed from pandas in a future version. Use pandas.concat instead.\n",
      "  df_in = df_in.append(row, ignore_index=True)\n",
      "C:\\Users\\user01\\AppData\\Local\\Temp\\ipykernel_12696\\522587240.py:75: FutureWarning: The frame.append method is deprecated and will be removed from pandas in a future version. Use pandas.concat instead.\n",
      "  df_in = df_in.append(row, ignore_index=True)\n",
      "C:\\Users\\user01\\AppData\\Local\\Temp\\ipykernel_12696\\522587240.py:75: FutureWarning: The frame.append method is deprecated and will be removed from pandas in a future version. Use pandas.concat instead.\n",
      "  df_in = df_in.append(row, ignore_index=True)\n",
      "C:\\Users\\user01\\AppData\\Local\\Temp\\ipykernel_12696\\522587240.py:75: FutureWarning: The frame.append method is deprecated and will be removed from pandas in a future version. Use pandas.concat instead.\n",
      "  df_in = df_in.append(row, ignore_index=True)\n",
      "C:\\Users\\user01\\AppData\\Local\\Temp\\ipykernel_12696\\522587240.py:75: FutureWarning: The frame.append method is deprecated and will be removed from pandas in a future version. Use pandas.concat instead.\n",
      "  df_in = df_in.append(row, ignore_index=True)\n"
     ]
    },
    {
     "name": "stdout",
     "output_type": "stream",
     "text": [
      "{'model': 'coca_ViT-B-32_laion2b_s13b_b90k', 'in_dis_Acc_top1': 0.59968, 'in_dis_Acc_top5': 0.83552}\n"
     ]
    },
    {
     "name": "stderr",
     "output_type": "stream",
     "text": [
      "C:\\Users\\user01\\AppData\\Local\\Temp\\ipykernel_12696\\522587240.py:69: FutureWarning: The frame.append method is deprecated and will be removed from pandas in a future version. Use pandas.concat instead.\n",
      "  df_in = df_in.append(row, ignore_index=True)\n"
     ]
    },
    {
     "name": "stdout",
     "output_type": "stream",
     "text": [
      "{'model': 'coca_ViT-B-32_mscoco_finetuned_laion2b_s13b_b90k', 'in_dis_Acc_top1': 0.00838, 'in_dis_Acc_top5': 0.0308}\n"
     ]
    },
    {
     "name": "stderr",
     "output_type": "stream",
     "text": [
      "C:\\Users\\user01\\AppData\\Local\\Temp\\ipykernel_12696\\522587240.py:69: FutureWarning: The frame.append method is deprecated and will be removed from pandas in a future version. Use pandas.concat instead.\n",
      "  df_in = df_in.append(row, ignore_index=True)\n"
     ]
    },
    {
     "name": "stdout",
     "output_type": "stream",
     "text": [
      "{'model': 'coca_ViT-L-14_laion2b_s13b_b90k', 'in_dis_Acc_top1': 0.72122, 'in_dis_Acc_top5': 0.91278}\n"
     ]
    },
    {
     "name": "stderr",
     "output_type": "stream",
     "text": [
      "C:\\Users\\user01\\AppData\\Local\\Temp\\ipykernel_12696\\522587240.py:69: FutureWarning: The frame.append method is deprecated and will be removed from pandas in a future version. Use pandas.concat instead.\n",
      "  df_in = df_in.append(row, ignore_index=True)\n"
     ]
    },
    {
     "name": "stdout",
     "output_type": "stream",
     "text": [
      "{'model': 'coca_ViT-L-14_mscoco_finetuned_laion2b_s13b_b90k', 'in_dis_Acc_top1': 0.6872, 'in_dis_Acc_top5': 0.8988}\n"
     ]
    },
    {
     "name": "stderr",
     "output_type": "stream",
     "text": [
      "C:\\Users\\user01\\AppData\\Local\\Temp\\ipykernel_12696\\522587240.py:69: FutureWarning: The frame.append method is deprecated and will be removed from pandas in a future version. Use pandas.concat instead.\n",
      "  df_in = df_in.append(row, ignore_index=True)\n"
     ]
    }
   ],
   "source": [
    "\n",
    "autocast = torch.cuda.amp.autocast\n",
    "cast_dtype = None\n",
    "for i,a in enumerate(all_models):\n",
    "    try:\n",
    "        \n",
    "        model, _, preprocess = open_clip.create_model_and_transforms(a[0], pretrained=a[1])\n",
    "        tokenizer = open_clip.get_tokenizer(a[0])\n",
    "        model.cuda()\n",
    "        model.eval()\n",
    "        dataset=torchvision.datasets.ImageFolder('C:/Users/user01/Documents/datasets/imagenet_only_name',transform=preprocess)\n",
    "        dataloader=torch.utils.data.DataLoader(dataset,shuffle=False,batch_size=64\n",
    "                                        )\n",
    "        \n",
    "\n",
    "\n",
    "        # Example list of texts to encode\n",
    "        \n",
    "        with torch.no_grad():\n",
    "        # Specify batch size\n",
    "            batch_size = 80\n",
    "\n",
    "            # Encode texts in batches\n",
    "            text_features_target = []\n",
    "            for i in range(0, len(all_texts), batch_size):\n",
    "                batch_texts = all_texts[i:i+batch_size]\n",
    "                text = tokenizer(batch_texts)\n",
    "                with torch.no_grad():\n",
    "                    text_features_batch = F.normalize(model.encode_text(text.cuda()))\n",
    "                    # text.cuda()\n",
    "                    # print(text_features_batch.shape)\n",
    "                    text_features_batch=text_features_batch.mean(dim=0)\n",
    "\n",
    "                    # text_features_batch /= text_features_batch.norm(dim=-1, keepdim=True)\n",
    "                    text_features_batch /= text_features_batch.norm(dim=-1, keepdim=True)\n",
    "\n",
    "                    # print(text_features_batch.unsqueeze(0).shape)\n",
    "                    # print(text_features_batch.mean(dim=0).shape)\n",
    "                    text_features_target.append(text_features_batch.unsqueeze(0))\n",
    "\n",
    "            # Concatenate text features from batches\n",
    "            text_features_target = torch.cat(text_features_target, dim=0)\n",
    "            \n",
    "        with torch.no_grad():\n",
    "            top1, top5, n = 0., 0., 0.\n",
    "            for images, target in dataloader:\n",
    "                images = images.to('cuda')\n",
    "                if cast_dtype is not None:\n",
    "                    images = images.to(dtype=cast_dtype)\n",
    "                target = target.to('cuda')\n",
    "\n",
    "\n",
    "                with autocast():\n",
    "                    # predict\n",
    "                    image_features = model.encode_image(images)\n",
    "                    # image_features = F.normalize(image_features, dim=-1)\n",
    "                    logits = 100. * image_features @ text_features_target.T\n",
    "                # print(image_features.shape)\n",
    "                # measure accuracy\n",
    "                acc1, acc5 = accuracy(logits, target, topk=(1, 5))\n",
    "                # print(acc1, acc5)\n",
    "                top1 += acc1\n",
    "                top5 += acc5\n",
    "                n += images.size(0)\n",
    "            \n",
    "        top1 = (top1 / n)\n",
    "        top5 = (top5 / n)\n",
    "        row={'model':a[0]+'_'+a[1],'in_dis_Acc_top1':top1,'in_dis_Acc_top5':top5}\n",
    "        print(row)\n",
    "        df_in = df_in.append(row, ignore_index=True)\n",
    "        df_in.to_csv('all_model_in_50k.csv', index=False)\n",
    "\n",
    "    except:\n",
    "        row={'model':a[0]+'_'+a[1],'in_dis_Acc_top1':0,'in_dis_Acc_top5':0}\n",
    "        print(row)\n",
    "        df_in = df_in.append(row, ignore_index=True)\n",
    "        continue"
   ]
  },
  {
   "cell_type": "code",
   "execution_count": 9,
   "metadata": {},
   "outputs": [
    {
     "name": "stdout",
     "output_type": "stream",
     "text": [
      "{'model': 'ViT-B-16_commonpool_l_clip_s1b_b8k', 'in_dis_Acc_top1': 0.6904, 'in_dis_Acc_top5': 0.90182}\n",
      "{'model': 'ViT-B-16_commonpool_l_laion_s1b_b8k', 'in_dis_Acc_top1': 0, 'in_dis_Acc_top5': 0}\n"
     ]
    }
   ],
   "source": [
    "\n",
    "autocast = torch.cuda.amp.autocast\n",
    "cast_dtype = None\n",
    "for i,a in enumerate(all_models):\n",
    "    try:\n",
    "        if 'commonpool_l' not in a[1] and 'commonpool_xl' not in a[1]:\n",
    "            continue\n",
    "        model, _, preprocess = open_clip.create_model_and_transforms('ViT-L-14', pretrained='commonpool_xl_s13b_b90k')\n",
    "        tokenizer = open_clip.get_tokenizer('ViT-L-14')\n",
    "        model.cuda()\n",
    "        model.eval()\n",
    "        dataset=torchvision.datasets.ImageFolder('C:/Users/user01/Documents/datasets/imagenet_only_name',transform=preprocess)\n",
    "        dataloader=torch.utils.data.DataLoader(dataset,shuffle=False,batch_size=64\n",
    "                                        )\n",
    "        \n",
    "\n",
    "\n",
    "        # Example list of texts to encode\n",
    "        \n",
    "        with torch.no_grad():\n",
    "        # Specify batch size\n",
    "            batch_size = 80\n",
    "\n",
    "            # Encode texts in batches\n",
    "            text_features_target = []\n",
    "            for i in range(0, len(all_texts), batch_size):\n",
    "                batch_texts = all_texts[i:i+batch_size]\n",
    "                text = tokenizer(batch_texts)\n",
    "                with torch.no_grad():\n",
    "                    text_features_batch = F.normalize(model.encode_text(text.cuda()))\n",
    "                    # text.cuda()\n",
    "                    # print(text_features_batch.shape)\n",
    "                    text_features_batch=text_features_batch.mean(dim=0)\n",
    "\n",
    "                    # text_features_batch /= text_features_batch.norm(dim=-1, keepdim=True)\n",
    "                    text_features_batch /= text_features_batch.norm(dim=-1, keepdim=True)\n",
    "\n",
    "                    # print(text_features_batch.unsqueeze(0).shape)\n",
    "                    # print(text_features_batch.mean(dim=0).shape)\n",
    "                    text_features_target.append(text_features_batch.unsqueeze(0))\n",
    "\n",
    "            # Concatenate text features from batches\n",
    "            text_features_target = torch.cat(text_features_target, dim=0)\n",
    "            \n",
    "        with torch.no_grad():\n",
    "            top1, top5, n = 0., 0., 0.\n",
    "            for images, target in dataloader:\n",
    "                images = images.to('cuda')\n",
    "                if cast_dtype is not None:\n",
    "                    images = images.to(dtype=cast_dtype)\n",
    "                target = target.to('cuda')\n",
    "\n",
    "\n",
    "                with autocast():\n",
    "                    # predict\n",
    "                    image_features = model.encode_image(images)\n",
    "                    # image_features = F.normalize(image_features, dim=-1)\n",
    "                    logits = 100. * image_features @ text_features_target.T\n",
    "                # print(image_features.shape)\n",
    "                # measure accuracy\n",
    "                acc1, acc5 = accuracy(logits, target, topk=(1, 5))\n",
    "                # print(acc1, acc5)\n",
    "                top1 += acc1\n",
    "                top5 += acc5\n",
    "                n += images.size(0)\n",
    "            \n",
    "        top1 = (top1 / n)\n",
    "        top5 = (top5 / n)\n",
    "        row={'model':a[0]+'_'+a[1],'in_dis_Acc_top1':top1,'in_dis_Acc_top5':top5}\n",
    "        print(row)\n",
    "        # df_in = df_in.append(row, ignore_index=True)\n",
    "        # df_in.to_csv('all_model_in_only_commonpool.csv', index=False)\n",
    "\n",
    "    except:\n",
    "        row={'model':a[0]+'_'+a[1],'in_dis_Acc_top1':0,'in_dis_Acc_top5':0}\n",
    "        print(row)\n",
    "        # df_in = df_in.append(row, ignore_index=True)\n",
    "        continue"
   ]
  },
  {
   "cell_type": "code",
   "execution_count": 14,
   "metadata": {},
   "outputs": [
    {
     "data": {
      "application/vnd.jupyter.widget-view+json": {
       "model_id": "510d8ac1378f461db27b89cfb80fdb58",
       "version_major": 2,
       "version_minor": 0
      },
      "text/plain": [
       "Downloading (…)lve/main/config.json:   0%|          | 0.00/615 [00:00<?, ?B/s]"
      ]
     },
     "metadata": {},
     "output_type": "display_data"
    },
    {
     "name": "stderr",
     "output_type": "stream",
     "text": [
      "c:\\Users\\user01\\anaconda3\\envs\\BRACS2\\lib\\site-packages\\huggingface_hub\\file_download.py:133: UserWarning: `huggingface_hub` cache-system uses symlinks by default to efficiently store duplicated files but your machine does not support them in C:\\Users\\user01\\.cache\\huggingface\\hub. Caching files will still work but in a degraded version that might require more space on your disk. This warning can be disabled by setting the `HF_HUB_DISABLE_SYMLINKS_WARNING` environment variable. For more details, see https://huggingface.co/docs/huggingface_hub/how-to-cache#limitations.\n",
      "To support symlinks on Windows, you either need to activate Developer Mode or to run Python as an administrator. In order to see activate developer mode, see this article: https://docs.microsoft.com/en-us/windows/apps/get-started/enable-your-device-for-development\n",
      "  warnings.warn(message)\n"
     ]
    },
    {
     "data": {
      "application/vnd.jupyter.widget-view+json": {
       "model_id": "4087eb3915784a0b94b6fbdc09374cd5",
       "version_major": 2,
       "version_minor": 0
      },
      "text/plain": [
       "Downloading model.safetensors:   0%|          | 0.00/1.12G [00:00<?, ?B/s]"
      ]
     },
     "metadata": {},
     "output_type": "display_data"
    },
    {
     "name": "stderr",
     "output_type": "stream",
     "text": [
      "Some weights of the model checkpoint at xlm-roberta-base were not used when initializing XLMRobertaModel: ['roberta.pooler.dense.bias', 'roberta.pooler.dense.weight', 'lm_head.layer_norm.bias', 'lm_head.bias', 'lm_head.dense.bias', 'lm_head.layer_norm.weight', 'lm_head.dense.weight']\n",
      "- This IS expected if you are initializing XLMRobertaModel from the checkpoint of a model trained on another task or with another architecture (e.g. initializing a BertForSequenceClassification model from a BertForPreTraining model).\n",
      "- This IS NOT expected if you are initializing XLMRobertaModel from the checkpoint of a model that you expect to be exactly identical (initializing a BertForSequenceClassification model from a BertForSequenceClassification model).\n"
     ]
    },
    {
     "data": {
      "application/vnd.jupyter.widget-view+json": {
       "model_id": "7f05da6369f846979ac2f55eb5cb7503",
       "version_major": 2,
       "version_minor": 0
      },
      "text/plain": [
       "Downloading (…)ip_pytorch_model.bin:   0%|          | 0.00/1.46G [00:00<?, ?B/s]"
      ]
     },
     "metadata": {},
     "output_type": "display_data"
    }
   ],
   "source": [
    "import open_clip\n",
    "model, _, preprocess = open_clip.create_model_and_transforms('xlm-roberta-base-ViT-B-32', pretrained='laion5b_s13b_b90k')\n"
   ]
  },
  {
   "cell_type": "code",
   "execution_count": 23,
   "metadata": {},
   "outputs": [
    {
     "ename": "IndexError",
     "evalue": "list index out of range",
     "output_type": "error",
     "traceback": [
      "\u001b[1;31m---------------------------------------------------------------------------\u001b[0m",
      "\u001b[1;31mIndexError\u001b[0m                                Traceback (most recent call last)",
      "Cell \u001b[1;32mIn[23], line 4\u001b[0m\n\u001b[0;32m      2\u001b[0m \u001b[39mimport\u001b[39;00m \u001b[39mtimm\u001b[39;00m\n\u001b[0;32m      3\u001b[0m k\u001b[39m=\u001b[39m\u001b[39m80\u001b[39m\n\u001b[1;32m----> 4\u001b[0m \u001b[39mprint\u001b[39m(all_models[k][\u001b[39m0\u001b[39m])\n\u001b[0;32m      5\u001b[0m model, _, preprocess \u001b[39m=\u001b[39m open_clip\u001b[39m.\u001b[39mcreate_model_and_transforms(all_models[k][\u001b[39m0\u001b[39m], pretrained\u001b[39m=\u001b[39mall_models[k][\u001b[39m1\u001b[39m])\n",
      "\u001b[1;31mIndexError\u001b[0m: list index out of range"
     ]
    }
   ],
   "source": [
    "import open_clip\n",
    "import timm\n",
    "k=80\n",
    "print(all_models[k][0])\n",
    "model, _, preprocess = open_clip.create_model_and_transforms(all_models[k][0], pretrained=all_models[k][1])\n"
   ]
  },
  {
   "cell_type": "code",
   "execution_count": 23,
   "metadata": {},
   "outputs": [
    {
     "name": "stdout",
     "output_type": "stream",
     "text": [
      "Requirement already satisfied: timm in c:\\users\\user01\\anaconda3\\envs\\bracs2\\lib\\site-packages (0.4.9)\n",
      "Requirement already satisfied: torchvision in c:\\users\\user01\\anaconda3\\envs\\bracs2\\lib\\site-packages (from timm) (0.14.1+cu117)\n",
      "Requirement already satisfied: torch>=1.4 in c:\\users\\user01\\anaconda3\\envs\\bracs2\\lib\\site-packages (from timm) (1.13.1+cu117)\n",
      "Requirement already satisfied: typing-extensions in c:\\users\\user01\\anaconda3\\envs\\bracs2\\lib\\site-packages (from torch>=1.4->timm) (4.4.0)\n",
      "Requirement already satisfied: requests in c:\\users\\user01\\anaconda3\\envs\\bracs2\\lib\\site-packages (from torchvision->timm) (2.28.1)\n",
      "Requirement already satisfied: pillow!=8.3.*,>=5.3.0 in c:\\users\\user01\\anaconda3\\envs\\bracs2\\lib\\site-packages (from torchvision->timm) (9.3.0)\n",
      "Requirement already satisfied: numpy in c:\\users\\user01\\anaconda3\\envs\\bracs2\\lib\\site-packages (from torchvision->timm) (1.24.1)\n",
      "Requirement already satisfied: charset-normalizer<3,>=2 in c:\\users\\user01\\anaconda3\\envs\\bracs2\\lib\\site-packages (from requests->torchvision->timm) (2.0.4)\n",
      "Requirement already satisfied: urllib3<1.27,>=1.21.1 in c:\\users\\user01\\anaconda3\\envs\\bracs2\\lib\\site-packages (from requests->torchvision->timm) (1.26.14)\n",
      "Requirement already satisfied: idna<4,>=2.5 in c:\\users\\user01\\anaconda3\\envs\\bracs2\\lib\\site-packages (from requests->torchvision->timm) (3.4)\n",
      "Requirement already satisfied: certifi>=2017.4.17 in c:\\users\\user01\\anaconda3\\envs\\bracs2\\lib\\site-packages (from requests->torchvision->timm) (2022.12.7)\n"
     ]
    },
    {
     "name": "stderr",
     "output_type": "stream",
     "text": [
      "WARNING: Ignoring invalid distribution -rotobuf (c:\\users\\user01\\anaconda3\\envs\\bracs2\\lib\\site-packages)\n",
      "WARNING: Ignoring invalid distribution -orch (c:\\users\\user01\\anaconda3\\envs\\bracs2\\lib\\site-packages)\n",
      "WARNING: Ignoring invalid distribution -rotobuf (c:\\users\\user01\\anaconda3\\envs\\bracs2\\lib\\site-packages)\n",
      "WARNING: Ignoring invalid distribution -orch (c:\\users\\user01\\anaconda3\\envs\\bracs2\\lib\\site-packages)\n",
      "WARNING: Ignoring invalid distribution -rotobuf (c:\\users\\user01\\anaconda3\\envs\\bracs2\\lib\\site-packages)\n",
      "WARNING: Ignoring invalid distribution -orch (c:\\users\\user01\\anaconda3\\envs\\bracs2\\lib\\site-packages)\n",
      "WARNING: Ignoring invalid distribution -rotobuf (c:\\users\\user01\\anaconda3\\envs\\bracs2\\lib\\site-packages)\n",
      "WARNING: Ignoring invalid distribution -orch (c:\\users\\user01\\anaconda3\\envs\\bracs2\\lib\\site-packages)\n",
      "WARNING: Ignoring invalid distribution -rotobuf (c:\\users\\user01\\anaconda3\\envs\\bracs2\\lib\\site-packages)\n",
      "WARNING: Ignoring invalid distribution -orch (c:\\users\\user01\\anaconda3\\envs\\bracs2\\lib\\site-packages)\n",
      "WARNING: Ignoring invalid distribution -rotobuf (c:\\users\\user01\\anaconda3\\envs\\bracs2\\lib\\site-packages)\n",
      "WARNING: Ignoring invalid distribution -orch (c:\\users\\user01\\anaconda3\\envs\\bracs2\\lib\\site-packages)\n"
     ]
    }
   ],
   "source": [
    "!pip install timm"
   ]
  },
  {
   "cell_type": "code",
   "execution_count": 19,
   "metadata": {},
   "outputs": [
    {
     "data": {
      "text/plain": [
       "('convnext_base', 'laion400m_s13b_b51k')"
      ]
     },
     "execution_count": 19,
     "metadata": {},
     "output_type": "execute_result"
    }
   ],
   "source": [
    "all_models[64]"
   ]
  },
  {
   "cell_type": "code",
   "execution_count": 13,
   "metadata": {},
   "outputs": [
    {
     "name": "stderr",
     "output_type": "stream",
     "text": [
      "c:\\Users\\user01\\anaconda3\\envs\\BRACS2\\lib\\site-packages\\open_clip\\pretrained.py:338: UserWarning: C:\\Users\\user01/.cache/clip\\vit_l_14-laion400m_e32-3d133497.pt exists, but the SHA256 checksum does not match; re-downloading the file\n",
      "  warnings.warn(f\"{download_target} exists, but the SHA256 checksum does not match; re-downloading the file\")\n",
      "  5%|█▉                                  | 90.0M/1.71G [10:45<3:13:41, 139kiB/s]\n"
     ]
    },
    {
     "ename": "KeyboardInterrupt",
     "evalue": "",
     "output_type": "error",
     "traceback": [
      "\u001b[1;31m---------------------------------------------------------------------------\u001b[0m",
      "\u001b[1;31mKeyboardInterrupt\u001b[0m                         Traceback (most recent call last)",
      "Cell \u001b[1;32mIn[13], line 1\u001b[0m\n\u001b[1;32m----> 1\u001b[0m model, _, preprocess \u001b[39m=\u001b[39m open_clip\u001b[39m.\u001b[39;49mcreate_model_and_transforms(\u001b[39m'\u001b[39;49m\u001b[39mViT-L-14\u001b[39;49m\u001b[39m'\u001b[39;49m, pretrained\u001b[39m=\u001b[39;49m\u001b[39m'\u001b[39;49m\u001b[39mlaion400m_e32\u001b[39;49m\u001b[39m'\u001b[39;49m)\n",
      "File \u001b[1;32mc:\\Users\\user01\\anaconda3\\envs\\BRACS2\\lib\\site-packages\\open_clip\\factory.py:292\u001b[0m, in \u001b[0;36mcreate_model_and_transforms\u001b[1;34m(model_name, pretrained, precision, device, jit, force_quick_gelu, force_custom_text, force_patch_dropout, force_image_size, pretrained_image, pretrained_hf, image_mean, image_std, aug_cfg, cache_dir, output_dict)\u001b[0m\n\u001b[0;32m    274\u001b[0m \u001b[39mdef\u001b[39;00m \u001b[39mcreate_model_and_transforms\u001b[39m(\n\u001b[0;32m    275\u001b[0m         model_name: \u001b[39mstr\u001b[39m,\n\u001b[0;32m    276\u001b[0m         pretrained: Optional[\u001b[39mstr\u001b[39m] \u001b[39m=\u001b[39m \u001b[39mNone\u001b[39;00m,\n\u001b[1;32m   (...)\u001b[0m\n\u001b[0;32m    290\u001b[0m         output_dict: Optional[\u001b[39mbool\u001b[39m] \u001b[39m=\u001b[39m \u001b[39mNone\u001b[39;00m,\n\u001b[0;32m    291\u001b[0m ):\n\u001b[1;32m--> 292\u001b[0m     model \u001b[39m=\u001b[39m create_model(\n\u001b[0;32m    293\u001b[0m         model_name,\n\u001b[0;32m    294\u001b[0m         pretrained,\n\u001b[0;32m    295\u001b[0m         precision\u001b[39m=\u001b[39;49mprecision,\n\u001b[0;32m    296\u001b[0m         device\u001b[39m=\u001b[39;49mdevice,\n\u001b[0;32m    297\u001b[0m         jit\u001b[39m=\u001b[39;49mjit,\n\u001b[0;32m    298\u001b[0m         force_quick_gelu\u001b[39m=\u001b[39;49mforce_quick_gelu,\n\u001b[0;32m    299\u001b[0m         force_custom_text\u001b[39m=\u001b[39;49mforce_custom_text,\n\u001b[0;32m    300\u001b[0m         force_patch_dropout\u001b[39m=\u001b[39;49mforce_patch_dropout,\n\u001b[0;32m    301\u001b[0m         force_image_size\u001b[39m=\u001b[39;49mforce_image_size,\n\u001b[0;32m    302\u001b[0m         pretrained_image\u001b[39m=\u001b[39;49mpretrained_image,\n\u001b[0;32m    303\u001b[0m         pretrained_hf\u001b[39m=\u001b[39;49mpretrained_hf,\n\u001b[0;32m    304\u001b[0m         cache_dir\u001b[39m=\u001b[39;49mcache_dir,\n\u001b[0;32m    305\u001b[0m         output_dict\u001b[39m=\u001b[39;49moutput_dict,\n\u001b[0;32m    306\u001b[0m     )\n\u001b[0;32m    308\u001b[0m     image_mean \u001b[39m=\u001b[39m image_mean \u001b[39mor\u001b[39;00m \u001b[39mgetattr\u001b[39m(model\u001b[39m.\u001b[39mvisual, \u001b[39m'\u001b[39m\u001b[39mimage_mean\u001b[39m\u001b[39m'\u001b[39m, \u001b[39mNone\u001b[39;00m)\n\u001b[0;32m    309\u001b[0m     image_std \u001b[39m=\u001b[39m image_std \u001b[39mor\u001b[39;00m \u001b[39mgetattr\u001b[39m(model\u001b[39m.\u001b[39mvisual, \u001b[39m'\u001b[39m\u001b[39mimage_std\u001b[39m\u001b[39m'\u001b[39m, \u001b[39mNone\u001b[39;00m)\n",
      "File \u001b[1;32mc:\\Users\\user01\\anaconda3\\envs\\BRACS2\\lib\\site-packages\\open_clip\\factory.py:201\u001b[0m, in \u001b[0;36mcreate_model\u001b[1;34m(model_name, pretrained, precision, device, jit, force_quick_gelu, force_custom_text, force_patch_dropout, force_image_size, pretrained_image, pretrained_hf, cache_dir, output_dict, require_pretrained)\u001b[0m\n\u001b[0;32m    199\u001b[0m pretrained_cfg \u001b[39m=\u001b[39m get_pretrained_cfg(model_name, pretrained)\n\u001b[0;32m    200\u001b[0m \u001b[39mif\u001b[39;00m pretrained_cfg:\n\u001b[1;32m--> 201\u001b[0m     checkpoint_path \u001b[39m=\u001b[39m download_pretrained(pretrained_cfg, cache_dir\u001b[39m=\u001b[39;49mcache_dir)\n\u001b[0;32m    202\u001b[0m \u001b[39melif\u001b[39;00m os\u001b[39m.\u001b[39mpath\u001b[39m.\u001b[39mexists(pretrained):\n\u001b[0;32m    203\u001b[0m     checkpoint_path \u001b[39m=\u001b[39m pretrained\n",
      "File \u001b[1;32mc:\\Users\\user01\\anaconda3\\envs\\BRACS2\\lib\\site-packages\\open_clip\\pretrained.py:393\u001b[0m, in \u001b[0;36mdownload_pretrained\u001b[1;34m(cfg, force_hf_hub, cache_dir)\u001b[0m\n\u001b[0;32m    390\u001b[0m     download_url \u001b[39m=\u001b[39m \u001b[39m'\u001b[39m\u001b[39m'\u001b[39m\n\u001b[0;32m    392\u001b[0m \u001b[39mif\u001b[39;00m download_url:\n\u001b[1;32m--> 393\u001b[0m     target \u001b[39m=\u001b[39m download_pretrained_from_url(download_url, cache_dir\u001b[39m=\u001b[39;49mcache_dir)\n\u001b[0;32m    394\u001b[0m \u001b[39melif\u001b[39;00m download_hf_hub:\n\u001b[0;32m    395\u001b[0m     has_hf_hub(\u001b[39mTrue\u001b[39;00m)\n",
      "File \u001b[1;32mc:\\Users\\user01\\anaconda3\\envs\\BRACS2\\lib\\site-packages\\open_clip\\pretrained.py:345\u001b[0m, in \u001b[0;36mdownload_pretrained_from_url\u001b[1;34m(url, cache_dir)\u001b[0m\n\u001b[0;32m    343\u001b[0m \u001b[39mwith\u001b[39;00m tqdm(total\u001b[39m=\u001b[39m\u001b[39mint\u001b[39m(source\u001b[39m.\u001b[39mheaders\u001b[39m.\u001b[39mget(\u001b[39m\"\u001b[39m\u001b[39mContent-Length\u001b[39m\u001b[39m\"\u001b[39m)), ncols\u001b[39m=\u001b[39m\u001b[39m80\u001b[39m, unit\u001b[39m=\u001b[39m\u001b[39m'\u001b[39m\u001b[39miB\u001b[39m\u001b[39m'\u001b[39m, unit_scale\u001b[39m=\u001b[39m\u001b[39mTrue\u001b[39;00m) \u001b[39mas\u001b[39;00m loop:\n\u001b[0;32m    344\u001b[0m     \u001b[39mwhile\u001b[39;00m \u001b[39mTrue\u001b[39;00m:\n\u001b[1;32m--> 345\u001b[0m         buffer \u001b[39m=\u001b[39m source\u001b[39m.\u001b[39;49mread(\u001b[39m8192\u001b[39;49m)\n\u001b[0;32m    346\u001b[0m         \u001b[39mif\u001b[39;00m \u001b[39mnot\u001b[39;00m buffer:\n\u001b[0;32m    347\u001b[0m             \u001b[39mbreak\u001b[39;00m\n",
      "File \u001b[1;32mc:\\Users\\user01\\anaconda3\\envs\\BRACS2\\lib\\http\\client.py:463\u001b[0m, in \u001b[0;36mHTTPResponse.read\u001b[1;34m(self, amt)\u001b[0m\n\u001b[0;32m    460\u001b[0m \u001b[39mif\u001b[39;00m amt \u001b[39mis\u001b[39;00m \u001b[39mnot\u001b[39;00m \u001b[39mNone\u001b[39;00m:\n\u001b[0;32m    461\u001b[0m     \u001b[39m# Amount is given, implement using readinto\u001b[39;00m\n\u001b[0;32m    462\u001b[0m     b \u001b[39m=\u001b[39m \u001b[39mbytearray\u001b[39m(amt)\n\u001b[1;32m--> 463\u001b[0m     n \u001b[39m=\u001b[39m \u001b[39mself\u001b[39;49m\u001b[39m.\u001b[39;49mreadinto(b)\n\u001b[0;32m    464\u001b[0m     \u001b[39mreturn\u001b[39;00m \u001b[39mmemoryview\u001b[39m(b)[:n]\u001b[39m.\u001b[39mtobytes()\n\u001b[0;32m    465\u001b[0m \u001b[39melse\u001b[39;00m:\n\u001b[0;32m    466\u001b[0m     \u001b[39m# Amount is not given (unbounded read) so we must check self.length\u001b[39;00m\n\u001b[0;32m    467\u001b[0m     \u001b[39m# and self.chunked\u001b[39;00m\n",
      "File \u001b[1;32mc:\\Users\\user01\\anaconda3\\envs\\BRACS2\\lib\\http\\client.py:507\u001b[0m, in \u001b[0;36mHTTPResponse.readinto\u001b[1;34m(self, b)\u001b[0m\n\u001b[0;32m    502\u001b[0m         b \u001b[39m=\u001b[39m \u001b[39mmemoryview\u001b[39m(b)[\u001b[39m0\u001b[39m:\u001b[39mself\u001b[39m\u001b[39m.\u001b[39mlength]\n\u001b[0;32m    504\u001b[0m \u001b[39m# we do not use _safe_read() here because this may be a .will_close\u001b[39;00m\n\u001b[0;32m    505\u001b[0m \u001b[39m# connection, and the user is reading more bytes than will be provided\u001b[39;00m\n\u001b[0;32m    506\u001b[0m \u001b[39m# (for example, reading in 1k chunks)\u001b[39;00m\n\u001b[1;32m--> 507\u001b[0m n \u001b[39m=\u001b[39m \u001b[39mself\u001b[39;49m\u001b[39m.\u001b[39;49mfp\u001b[39m.\u001b[39;49mreadinto(b)\n\u001b[0;32m    508\u001b[0m \u001b[39mif\u001b[39;00m \u001b[39mnot\u001b[39;00m n \u001b[39mand\u001b[39;00m b:\n\u001b[0;32m    509\u001b[0m     \u001b[39m# Ideally, we would raise IncompleteRead if the content-length\u001b[39;00m\n\u001b[0;32m    510\u001b[0m     \u001b[39m# wasn't satisfied, but it might break compatibility.\u001b[39;00m\n\u001b[0;32m    511\u001b[0m     \u001b[39mself\u001b[39m\u001b[39m.\u001b[39m_close_conn()\n",
      "File \u001b[1;32mc:\\Users\\user01\\anaconda3\\envs\\BRACS2\\lib\\socket.py:704\u001b[0m, in \u001b[0;36mSocketIO.readinto\u001b[1;34m(self, b)\u001b[0m\n\u001b[0;32m    702\u001b[0m \u001b[39mwhile\u001b[39;00m \u001b[39mTrue\u001b[39;00m:\n\u001b[0;32m    703\u001b[0m     \u001b[39mtry\u001b[39;00m:\n\u001b[1;32m--> 704\u001b[0m         \u001b[39mreturn\u001b[39;00m \u001b[39mself\u001b[39;49m\u001b[39m.\u001b[39;49m_sock\u001b[39m.\u001b[39;49mrecv_into(b)\n\u001b[0;32m    705\u001b[0m     \u001b[39mexcept\u001b[39;00m timeout:\n\u001b[0;32m    706\u001b[0m         \u001b[39mself\u001b[39m\u001b[39m.\u001b[39m_timeout_occurred \u001b[39m=\u001b[39m \u001b[39mTrue\u001b[39;00m\n",
      "File \u001b[1;32mc:\\Users\\user01\\anaconda3\\envs\\BRACS2\\lib\\ssl.py:1242\u001b[0m, in \u001b[0;36mSSLSocket.recv_into\u001b[1;34m(self, buffer, nbytes, flags)\u001b[0m\n\u001b[0;32m   1238\u001b[0m     \u001b[39mif\u001b[39;00m flags \u001b[39m!=\u001b[39m \u001b[39m0\u001b[39m:\n\u001b[0;32m   1239\u001b[0m         \u001b[39mraise\u001b[39;00m \u001b[39mValueError\u001b[39;00m(\n\u001b[0;32m   1240\u001b[0m           \u001b[39m\"\u001b[39m\u001b[39mnon-zero flags not allowed in calls to recv_into() on \u001b[39m\u001b[39m%s\u001b[39;00m\u001b[39m\"\u001b[39m \u001b[39m%\u001b[39m\n\u001b[0;32m   1241\u001b[0m           \u001b[39mself\u001b[39m\u001b[39m.\u001b[39m\u001b[39m__class__\u001b[39m)\n\u001b[1;32m-> 1242\u001b[0m     \u001b[39mreturn\u001b[39;00m \u001b[39mself\u001b[39;49m\u001b[39m.\u001b[39;49mread(nbytes, buffer)\n\u001b[0;32m   1243\u001b[0m \u001b[39melse\u001b[39;00m:\n\u001b[0;32m   1244\u001b[0m     \u001b[39mreturn\u001b[39;00m \u001b[39msuper\u001b[39m()\u001b[39m.\u001b[39mrecv_into(buffer, nbytes, flags)\n",
      "File \u001b[1;32mc:\\Users\\user01\\anaconda3\\envs\\BRACS2\\lib\\ssl.py:1100\u001b[0m, in \u001b[0;36mSSLSocket.read\u001b[1;34m(self, len, buffer)\u001b[0m\n\u001b[0;32m   1098\u001b[0m \u001b[39mtry\u001b[39;00m:\n\u001b[0;32m   1099\u001b[0m     \u001b[39mif\u001b[39;00m buffer \u001b[39mis\u001b[39;00m \u001b[39mnot\u001b[39;00m \u001b[39mNone\u001b[39;00m:\n\u001b[1;32m-> 1100\u001b[0m         \u001b[39mreturn\u001b[39;00m \u001b[39mself\u001b[39;49m\u001b[39m.\u001b[39;49m_sslobj\u001b[39m.\u001b[39;49mread(\u001b[39mlen\u001b[39;49m, buffer)\n\u001b[0;32m   1101\u001b[0m     \u001b[39melse\u001b[39;00m:\n\u001b[0;32m   1102\u001b[0m         \u001b[39mreturn\u001b[39;00m \u001b[39mself\u001b[39m\u001b[39m.\u001b[39m_sslobj\u001b[39m.\u001b[39mread(\u001b[39mlen\u001b[39m)\n",
      "\u001b[1;31mKeyboardInterrupt\u001b[0m: "
     ]
    }
   ],
   "source": [
    "model, _, preprocess = open_clip.create_model_and_transforms('ViT-L-14', pretrained='laion400m_e32')"
   ]
  },
  {
   "cell_type": "code",
   "execution_count": null,
   "metadata": {},
   "outputs": [],
   "source": []
  }
 ],
 "metadata": {
  "kernelspec": {
   "display_name": "BRACS2",
   "language": "python",
   "name": "python3"
  },
  "language_info": {
   "codemirror_mode": {
    "name": "ipython",
    "version": 3
   },
   "file_extension": ".py",
   "mimetype": "text/x-python",
   "name": "python",
   "nbconvert_exporter": "python",
   "pygments_lexer": "ipython3",
   "version": "3.9.16"
  },
  "orig_nbformat": 4
 },
 "nbformat": 4,
 "nbformat_minor": 2
}
